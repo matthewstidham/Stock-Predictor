{
 "cells": [
  {
   "cell_type": "code",
   "execution_count": 1,
   "metadata": {
    "collapsed": false
   },
   "outputs": [
    {
     "name": "stderr",
     "output_type": "stream",
     "text": [
      "/home/matthew/anaconda2/lib/python2.7/site-packages/statsmodels/compat/pandas.py:56: FutureWarning: The pandas.core.datetools module is deprecated and will be removed in a future version. Please use the pandas.tseries module instead.\n",
      "  from pandas.core import datetools\n"
     ]
    }
   ],
   "source": [
    "import pandas as pd\n",
    "#import stockstats as StockDataFrame\n",
    "import seaborn as sns\n",
    "import numpy as np\n",
    "import scipy.stats as stats\n",
    "from sklearn.tree import DecisionTreeRegressor\n",
    "from sklearn.metrics import mean_squared_error\n",
    "from sklearn import preprocessing\n",
    "from sklearn import svm\n",
    "from sklearn.ensemble import RandomForestClassifier\n",
    "from sklearn.model_selection import cross_val_score\n",
    "from sklearn.linear_model import LinearRegression\n",
    "import statsmodels.api as sm\n",
    "\n",
    "from ipywidgets import *\n",
    "from IPython.display import display\n",
    "\n",
    "import seaborn as sns\n",
    "import matplotlib.pyplot as plt\n",
    "from sklearn.model_selection import train_test_split\n",
    "plt.rc(\"figure\", figsize=(9, 7))\n",
    "sns.set_style('whitegrid')\n",
    "\n",
    "%matplotlib inline\n",
    "pd.set_option('display.max_columns', 500)\n",
    "from sklearn.metrics import f1_score\n",
    "from scipy.optimize import least_squares\n",
    "from sklearn.ensemble import RandomForestRegressor\n",
    "from datetime import datetime"
   ]
  },
  {
   "cell_type": "markdown",
   "metadata": {},
   "source": [
    "# Load stock data"
   ]
  },
  {
   "cell_type": "code",
   "execution_count": 2,
   "metadata": {
    "collapsed": false
   },
   "outputs": [],
   "source": [
    "df = pd.read_csv('largecap.csv')"
   ]
  },
  {
   "cell_type": "code",
   "execution_count": 3,
   "metadata": {
    "collapsed": true
   },
   "outputs": [],
   "source": [
    "def middle_of_month(name):\n",
    "    name['date'] = pd.DatetimeIndex(name['date'])\n",
    "    stockmiddle = name.loc[:,('date','open')]\n",
    "    stockmiddle['date'] = pd.DatetimeIndex(stockmiddle['date']) + pd.DateOffset(-14)\n",
    "    stockmiddle['14 day price'] = stockmiddle['open']\n",
    "    stockmiddle.set_index('date', drop=False, inplace=True)\n",
    "    stockmiddle.drop('open', 1, inplace=True)\n",
    "    stock30 = name.loc[:,('date','open')]\n",
    "    stock30['date'] = pd.DatetimeIndex(stock30['date']) + pd.DateOffset(-28)\n",
    "    stock30['28 day price'] = stock30['open']\n",
    "    stock30.set_index('date', drop=False, inplace=True)\n",
    "    stock30.drop('open', 1, inplace=True)\n",
    "    stock60 = name.loc[:,('date','open')]\n",
    "    stock60['date'] = pd.DatetimeIndex(stock60['date']) + pd.DateOffset(-63)\n",
    "    stock60['63 day price'] = stock60['open']\n",
    "    stock60.set_index('date', drop=False, inplace=True)\n",
    "    stock60.drop('open', 1, inplace=True)\n",
    "    name.set_index('date', drop=False, inplace=True)\n",
    "    output = pd.merge(name,stockmiddle, left_on='date', right_on='date')\n",
    "    output = pd.merge(output,stock30, left_on='date', right_on='date')\n",
    "    output = pd.merge(output,stock60, left_on='date', right_on='date')\n",
    "    output['2 week gain'] = (output['14 day price'] / output['open']) - 1\n",
    "    output['4 week gain'] = (output['28 day price'] / output['open']) - 1\n",
    "    output['7 week gain'] = (output['63 day price'] / output['open']) - 1\n",
    "    output.set_index('date', drop=False, inplace=True)\n",
    "    return output"
   ]
  },
  {
   "cell_type": "code",
   "execution_count": 4,
   "metadata": {
    "collapsed": false
   },
   "outputs": [],
   "source": [
    "def derivative(data):\n",
    "    data = data.iloc[1:]\n",
    "    data['Category: All categories'] = data['Category: All categories'].astype(float)\n",
    "    data['derivative'] = data['Category: All categories'].diff(periods = 1)\n",
    "    data.index = [datetime.strptime(date, '%Y-%m-%d').date() for date in data.index]\n",
    "    data.index = data.index + pd.DateOffset(-2)\n",
    "    return data\n",
    "    \n",
    "def stock(stock,datastock):\n",
    "    stockdata = df[df['ticker'] == str(stock)]\n",
    "    datastock = middle_of_month(stockdata)\n",
    "    return datastock\n",
    "    \n",
    "def mergefunction(stock,derivative):\n",
    "    stock = stock.iloc[1:]\n",
    "    derivative = pd.merge(stock, derivative,\n",
    "                          left_index = True,\n",
    "                          right_index = True,\n",
    "                          how='inner')\n",
    "    return stock"
   ]
  },
  {
   "cell_type": "code",
   "execution_count": 5,
   "metadata": {
    "collapsed": false
   },
   "outputs": [
    {
     "data": {
      "text/html": [
       "<div>\n",
       "<style>\n",
       "    .dataframe thead tr:only-child th {\n",
       "        text-align: right;\n",
       "    }\n",
       "\n",
       "    .dataframe thead th {\n",
       "        text-align: left;\n",
       "    }\n",
       "\n",
       "    .dataframe tbody tr th {\n",
       "        vertical-align: top;\n",
       "    }\n",
       "</style>\n",
       "<table border=\"1\" class=\"dataframe\">\n",
       "  <thead>\n",
       "    <tr style=\"text-align: right;\">\n",
       "      <th></th>\n",
       "      <th>ticker</th>\n",
       "      <th>date</th>\n",
       "      <th>open</th>\n",
       "      <th>high</th>\n",
       "      <th>low</th>\n",
       "      <th>close</th>\n",
       "      <th>volume</th>\n",
       "      <th>ex-dividend</th>\n",
       "      <th>split_ratio</th>\n",
       "      <th>adj_open</th>\n",
       "      <th>adj_high</th>\n",
       "      <th>adj_low</th>\n",
       "      <th>adj_close</th>\n",
       "      <th>adj_volume</th>\n",
       "      <th>marketopen</th>\n",
       "      <th>marketclose</th>\n",
       "      <th>marketgain</th>\n",
       "      <th>volatility</th>\n",
       "      <th>daily_change</th>\n",
       "      <th>dailyrate</th>\n",
       "    </tr>\n",
       "  </thead>\n",
       "  <tbody>\n",
       "    <tr>\n",
       "      <th>0</th>\n",
       "      <td>A</td>\n",
       "      <td>1999-11-18</td>\n",
       "      <td>45.50</td>\n",
       "      <td>50.00</td>\n",
       "      <td>40.00</td>\n",
       "      <td>44.00</td>\n",
       "      <td>44739900.0</td>\n",
       "      <td>0.0</td>\n",
       "      <td>1.0</td>\n",
       "      <td>29.367758</td>\n",
       "      <td>32.272262</td>\n",
       "      <td>25.817810</td>\n",
       "      <td>28.399591</td>\n",
       "      <td>44739900.0</td>\n",
       "      <td>2.035665e+09</td>\n",
       "      <td>1.968556e+09</td>\n",
       "      <td>-67109850.0</td>\n",
       "      <td>0.222222</td>\n",
       "      <td>-1.50</td>\n",
       "      <td>-0.032967</td>\n",
       "    </tr>\n",
       "    <tr>\n",
       "      <th>1</th>\n",
       "      <td>A</td>\n",
       "      <td>1999-11-19</td>\n",
       "      <td>42.94</td>\n",
       "      <td>43.00</td>\n",
       "      <td>39.81</td>\n",
       "      <td>40.38</td>\n",
       "      <td>10897100.0</td>\n",
       "      <td>0.0</td>\n",
       "      <td>1.0</td>\n",
       "      <td>27.714581</td>\n",
       "      <td>27.753307</td>\n",
       "      <td>25.694399</td>\n",
       "      <td>26.062292</td>\n",
       "      <td>10897100.0</td>\n",
       "      <td>4.679215e+08</td>\n",
       "      <td>4.400249e+08</td>\n",
       "      <td>-27896576.0</td>\n",
       "      <td>0.077044</td>\n",
       "      <td>-2.56</td>\n",
       "      <td>-0.059618</td>\n",
       "    </tr>\n",
       "    <tr>\n",
       "      <th>2</th>\n",
       "      <td>A</td>\n",
       "      <td>1999-12-29</td>\n",
       "      <td>63.00</td>\n",
       "      <td>79.06</td>\n",
       "      <td>62.94</td>\n",
       "      <td>72.00</td>\n",
       "      <td>7524000.0</td>\n",
       "      <td>0.0</td>\n",
       "      <td>1.0</td>\n",
       "      <td>40.668650</td>\n",
       "      <td>51.035928</td>\n",
       "      <td>40.629918</td>\n",
       "      <td>46.478457</td>\n",
       "      <td>7524000.0</td>\n",
       "      <td>4.740120e+08</td>\n",
       "      <td>5.417280e+08</td>\n",
       "      <td>67716000.0</td>\n",
       "      <td>0.227042</td>\n",
       "      <td>9.00</td>\n",
       "      <td>0.142857</td>\n",
       "    </tr>\n",
       "    <tr>\n",
       "      <th>3</th>\n",
       "      <td>A</td>\n",
       "      <td>2000-05-12</td>\n",
       "      <td>84.00</td>\n",
       "      <td>98.00</td>\n",
       "      <td>82.25</td>\n",
       "      <td>90.56</td>\n",
       "      <td>9703800.0</td>\n",
       "      <td>0.0</td>\n",
       "      <td>1.0</td>\n",
       "      <td>54.225854</td>\n",
       "      <td>63.263496</td>\n",
       "      <td>53.096148</td>\n",
       "      <td>58.460635</td>\n",
       "      <td>9703800.0</td>\n",
       "      <td>8.151192e+08</td>\n",
       "      <td>8.787761e+08</td>\n",
       "      <td>63656928.0</td>\n",
       "      <td>0.174757</td>\n",
       "      <td>6.56</td>\n",
       "      <td>0.078095</td>\n",
       "    </tr>\n",
       "    <tr>\n",
       "      <th>4</th>\n",
       "      <td>A</td>\n",
       "      <td>2000-05-17</td>\n",
       "      <td>83.25</td>\n",
       "      <td>83.75</td>\n",
       "      <td>76.81</td>\n",
       "      <td>78.00</td>\n",
       "      <td>8906100.0</td>\n",
       "      <td>0.0</td>\n",
       "      <td>1.0</td>\n",
       "      <td>53.739464</td>\n",
       "      <td>54.062223</td>\n",
       "      <td>49.582321</td>\n",
       "      <td>50.350489</td>\n",
       "      <td>8906100.0</td>\n",
       "      <td>7.414328e+08</td>\n",
       "      <td>6.946758e+08</td>\n",
       "      <td>-46757025.0</td>\n",
       "      <td>0.086447</td>\n",
       "      <td>-5.25</td>\n",
       "      <td>-0.063063</td>\n",
       "    </tr>\n",
       "  </tbody>\n",
       "</table>\n",
       "</div>"
      ],
      "text/plain": [
       "  ticker        date   open   high    low  close      volume  ex-dividend  \\\n",
       "0      A  1999-11-18  45.50  50.00  40.00  44.00  44739900.0          0.0   \n",
       "1      A  1999-11-19  42.94  43.00  39.81  40.38  10897100.0          0.0   \n",
       "2      A  1999-12-29  63.00  79.06  62.94  72.00   7524000.0          0.0   \n",
       "3      A  2000-05-12  84.00  98.00  82.25  90.56   9703800.0          0.0   \n",
       "4      A  2000-05-17  83.25  83.75  76.81  78.00   8906100.0          0.0   \n",
       "\n",
       "   split_ratio   adj_open   adj_high    adj_low  adj_close  adj_volume  \\\n",
       "0          1.0  29.367758  32.272262  25.817810  28.399591  44739900.0   \n",
       "1          1.0  27.714581  27.753307  25.694399  26.062292  10897100.0   \n",
       "2          1.0  40.668650  51.035928  40.629918  46.478457   7524000.0   \n",
       "3          1.0  54.225854  63.263496  53.096148  58.460635   9703800.0   \n",
       "4          1.0  53.739464  54.062223  49.582321  50.350489   8906100.0   \n",
       "\n",
       "     marketopen   marketclose  marketgain  volatility  daily_change  dailyrate  \n",
       "0  2.035665e+09  1.968556e+09 -67109850.0    0.222222         -1.50  -0.032967  \n",
       "1  4.679215e+08  4.400249e+08 -27896576.0    0.077044         -2.56  -0.059618  \n",
       "2  4.740120e+08  5.417280e+08  67716000.0    0.227042          9.00   0.142857  \n",
       "3  8.151192e+08  8.787761e+08  63656928.0    0.174757          6.56   0.078095  \n",
       "4  7.414328e+08  6.946758e+08 -46757025.0    0.086447         -5.25  -0.063063  "
      ]
     },
     "execution_count": 5,
     "metadata": {},
     "output_type": "execute_result"
    }
   ],
   "source": [
    "df.head()"
   ]
  },
  {
   "cell_type": "code",
   "execution_count": 6,
   "metadata": {
    "collapsed": false
   },
   "outputs": [],
   "source": [
    "tickers = df['ticker'].value_counts()"
   ]
  },
  {
   "cell_type": "code",
   "execution_count": 7,
   "metadata": {
    "collapsed": false
   },
   "outputs": [],
   "source": [
    "stocks = pd.DataFrame()\n",
    "def valuepredictor(df):\n",
    "    for value in df['ticker']:\n",
    "        teststock = df[df['ticker'] == value]\n",
    "        teststock = middle_of_month(teststock)\n",
    "        value = teststock\n",
    "        return value\n",
    "    stocks = pd.merge([value, stocks])"
   ]
  },
  {
   "cell_type": "code",
   "execution_count": 8,
   "metadata": {
    "collapsed": false
   },
   "outputs": [
    {
     "name": "stderr",
     "output_type": "stream",
     "text": [
      "/home/matthew/anaconda2/lib/python2.7/site-packages/ipykernel/__main__.py:2: SettingWithCopyWarning: \n",
      "A value is trying to be set on a copy of a slice from a DataFrame.\n",
      "Try using .loc[row_indexer,col_indexer] = value instead\n",
      "\n",
      "See the caveats in the documentation: http://pandas.pydata.org/pandas-docs/stable/indexing.html#indexing-view-versus-copy\n",
      "  from ipykernel import kernelapp as app\n"
     ]
    },
    {
     "data": {
      "text/html": [
       "<div>\n",
       "<style>\n",
       "    .dataframe thead tr:only-child th {\n",
       "        text-align: right;\n",
       "    }\n",
       "\n",
       "    .dataframe thead th {\n",
       "        text-align: left;\n",
       "    }\n",
       "\n",
       "    .dataframe tbody tr th {\n",
       "        vertical-align: top;\n",
       "    }\n",
       "</style>\n",
       "<table border=\"1\" class=\"dataframe\">\n",
       "  <thead>\n",
       "    <tr style=\"text-align: right;\">\n",
       "      <th></th>\n",
       "      <th>ticker</th>\n",
       "      <th>date</th>\n",
       "      <th>open</th>\n",
       "      <th>high</th>\n",
       "      <th>low</th>\n",
       "      <th>close</th>\n",
       "      <th>volume</th>\n",
       "      <th>ex-dividend</th>\n",
       "      <th>split_ratio</th>\n",
       "      <th>adj_open</th>\n",
       "      <th>adj_high</th>\n",
       "      <th>adj_low</th>\n",
       "      <th>adj_close</th>\n",
       "      <th>adj_volume</th>\n",
       "      <th>marketopen</th>\n",
       "      <th>marketclose</th>\n",
       "      <th>marketgain</th>\n",
       "      <th>volatility</th>\n",
       "      <th>daily_change</th>\n",
       "      <th>dailyrate</th>\n",
       "      <th>14 day price</th>\n",
       "      <th>28 day price</th>\n",
       "      <th>63 day price</th>\n",
       "      <th>2 week gain</th>\n",
       "      <th>4 week gain</th>\n",
       "      <th>7 week gain</th>\n",
       "    </tr>\n",
       "    <tr>\n",
       "      <th>date</th>\n",
       "      <th></th>\n",
       "      <th></th>\n",
       "      <th></th>\n",
       "      <th></th>\n",
       "      <th></th>\n",
       "      <th></th>\n",
       "      <th></th>\n",
       "      <th></th>\n",
       "      <th></th>\n",
       "      <th></th>\n",
       "      <th></th>\n",
       "      <th></th>\n",
       "      <th></th>\n",
       "      <th></th>\n",
       "      <th></th>\n",
       "      <th></th>\n",
       "      <th></th>\n",
       "      <th></th>\n",
       "      <th></th>\n",
       "      <th></th>\n",
       "      <th></th>\n",
       "      <th></th>\n",
       "      <th></th>\n",
       "      <th></th>\n",
       "      <th></th>\n",
       "      <th></th>\n",
       "    </tr>\n",
       "  </thead>\n",
       "  <tbody>\n",
       "    <tr>\n",
       "      <th>2001-07-17</th>\n",
       "      <td>JNJ</td>\n",
       "      <td>2001-07-17</td>\n",
       "      <td>53.06</td>\n",
       "      <td>54.98</td>\n",
       "      <td>52.00</td>\n",
       "      <td>54.91</td>\n",
       "      <td>12244400.0</td>\n",
       "      <td>0.0</td>\n",
       "      <td>1.0</td>\n",
       "      <td>35.093997</td>\n",
       "      <td>36.363889</td>\n",
       "      <td>34.392911</td>\n",
       "      <td>36.317591</td>\n",
       "      <td>12244400.0</td>\n",
       "      <td>649687864.0</td>\n",
       "      <td>672340004.0</td>\n",
       "      <td>22652140.0</td>\n",
       "      <td>0.055711</td>\n",
       "      <td>1.85</td>\n",
       "      <td>0.034866</td>\n",
       "      <td>52.92</td>\n",
       "      <td>56.00</td>\n",
       "      <td>54.55</td>\n",
       "      <td>-0.002639</td>\n",
       "      <td>0.055409</td>\n",
       "      <td>0.028081</td>\n",
       "    </tr>\n",
       "    <tr>\n",
       "      <th>2001-08-21</th>\n",
       "      <td>JNJ</td>\n",
       "      <td>2001-08-21</td>\n",
       "      <td>54.00</td>\n",
       "      <td>54.94</td>\n",
       "      <td>54.00</td>\n",
       "      <td>54.30</td>\n",
       "      <td>7946000.0</td>\n",
       "      <td>0.0</td>\n",
       "      <td>1.0</td>\n",
       "      <td>35.835321</td>\n",
       "      <td>36.459121</td>\n",
       "      <td>35.835321</td>\n",
       "      <td>36.034406</td>\n",
       "      <td>7946000.0</td>\n",
       "      <td>429084000.0</td>\n",
       "      <td>431467800.0</td>\n",
       "      <td>2383800.0</td>\n",
       "      <td>0.017257</td>\n",
       "      <td>0.30</td>\n",
       "      <td>0.005556</td>\n",
       "      <td>55.75</td>\n",
       "      <td>54.55</td>\n",
       "      <td>58.98</td>\n",
       "      <td>0.032407</td>\n",
       "      <td>0.010185</td>\n",
       "      <td>0.092222</td>\n",
       "    </tr>\n",
       "    <tr>\n",
       "      <th>2001-09-05</th>\n",
       "      <td>JNJ</td>\n",
       "      <td>2001-09-05</td>\n",
       "      <td>55.45</td>\n",
       "      <td>56.50</td>\n",
       "      <td>55.25</td>\n",
       "      <td>56.24</td>\n",
       "      <td>11788600.0</td>\n",
       "      <td>0.0</td>\n",
       "      <td>1.0</td>\n",
       "      <td>36.797566</td>\n",
       "      <td>37.494364</td>\n",
       "      <td>36.664842</td>\n",
       "      <td>37.321823</td>\n",
       "      <td>11788600.0</td>\n",
       "      <td>653677870.0</td>\n",
       "      <td>662990864.0</td>\n",
       "      <td>9312994.0</td>\n",
       "      <td>0.022371</td>\n",
       "      <td>0.79</td>\n",
       "      <td>0.014247</td>\n",
       "      <td>54.51</td>\n",
       "      <td>54.45</td>\n",
       "      <td>59.85</td>\n",
       "      <td>-0.016952</td>\n",
       "      <td>-0.018034</td>\n",
       "      <td>0.079351</td>\n",
       "    </tr>\n",
       "    <tr>\n",
       "      <th>2001-09-06</th>\n",
       "      <td>JNJ</td>\n",
       "      <td>2001-09-06</td>\n",
       "      <td>56.50</td>\n",
       "      <td>57.16</td>\n",
       "      <td>56.15</td>\n",
       "      <td>56.94</td>\n",
       "      <td>14478600.0</td>\n",
       "      <td>0.0</td>\n",
       "      <td>1.0</td>\n",
       "      <td>37.494364</td>\n",
       "      <td>37.932351</td>\n",
       "      <td>37.262098</td>\n",
       "      <td>37.786355</td>\n",
       "      <td>14478600.0</td>\n",
       "      <td>818040900.0</td>\n",
       "      <td>824411484.0</td>\n",
       "      <td>6370584.0</td>\n",
       "      <td>0.017827</td>\n",
       "      <td>0.44</td>\n",
       "      <td>0.007788</td>\n",
       "      <td>53.24</td>\n",
       "      <td>55.25</td>\n",
       "      <td>59.37</td>\n",
       "      <td>-0.057699</td>\n",
       "      <td>-0.022124</td>\n",
       "      <td>0.050796</td>\n",
       "    </tr>\n",
       "    <tr>\n",
       "      <th>2001-09-18</th>\n",
       "      <td>JNJ</td>\n",
       "      <td>2001-09-18</td>\n",
       "      <td>54.55</td>\n",
       "      <td>55.00</td>\n",
       "      <td>53.37</td>\n",
       "      <td>54.50</td>\n",
       "      <td>13398000.0</td>\n",
       "      <td>0.0</td>\n",
       "      <td>1.0</td>\n",
       "      <td>36.200311</td>\n",
       "      <td>36.498938</td>\n",
       "      <td>35.417242</td>\n",
       "      <td>36.167130</td>\n",
       "      <td>13398000.0</td>\n",
       "      <td>730860900.0</td>\n",
       "      <td>730191000.0</td>\n",
       "      <td>-669900.0</td>\n",
       "      <td>0.030082</td>\n",
       "      <td>-0.05</td>\n",
       "      <td>-0.000917</td>\n",
       "      <td>54.55</td>\n",
       "      <td>55.70</td>\n",
       "      <td>59.40</td>\n",
       "      <td>0.000000</td>\n",
       "      <td>0.021082</td>\n",
       "      <td>0.088909</td>\n",
       "    </tr>\n",
       "  </tbody>\n",
       "</table>\n",
       "</div>"
      ],
      "text/plain": [
       "           ticker       date   open   high    low  close      volume  \\\n",
       "date                                                                   \n",
       "2001-07-17    JNJ 2001-07-17  53.06  54.98  52.00  54.91  12244400.0   \n",
       "2001-08-21    JNJ 2001-08-21  54.00  54.94  54.00  54.30   7946000.0   \n",
       "2001-09-05    JNJ 2001-09-05  55.45  56.50  55.25  56.24  11788600.0   \n",
       "2001-09-06    JNJ 2001-09-06  56.50  57.16  56.15  56.94  14478600.0   \n",
       "2001-09-18    JNJ 2001-09-18  54.55  55.00  53.37  54.50  13398000.0   \n",
       "\n",
       "            ex-dividend  split_ratio   adj_open   adj_high    adj_low  \\\n",
       "date                                                                    \n",
       "2001-07-17          0.0          1.0  35.093997  36.363889  34.392911   \n",
       "2001-08-21          0.0          1.0  35.835321  36.459121  35.835321   \n",
       "2001-09-05          0.0          1.0  36.797566  37.494364  36.664842   \n",
       "2001-09-06          0.0          1.0  37.494364  37.932351  37.262098   \n",
       "2001-09-18          0.0          1.0  36.200311  36.498938  35.417242   \n",
       "\n",
       "            adj_close  adj_volume   marketopen  marketclose  marketgain  \\\n",
       "date                                                                      \n",
       "2001-07-17  36.317591  12244400.0  649687864.0  672340004.0  22652140.0   \n",
       "2001-08-21  36.034406   7946000.0  429084000.0  431467800.0   2383800.0   \n",
       "2001-09-05  37.321823  11788600.0  653677870.0  662990864.0   9312994.0   \n",
       "2001-09-06  37.786355  14478600.0  818040900.0  824411484.0   6370584.0   \n",
       "2001-09-18  36.167130  13398000.0  730860900.0  730191000.0   -669900.0   \n",
       "\n",
       "            volatility  daily_change  dailyrate  14 day price  28 day price  \\\n",
       "date                                                                          \n",
       "2001-07-17    0.055711          1.85   0.034866         52.92         56.00   \n",
       "2001-08-21    0.017257          0.30   0.005556         55.75         54.55   \n",
       "2001-09-05    0.022371          0.79   0.014247         54.51         54.45   \n",
       "2001-09-06    0.017827          0.44   0.007788         53.24         55.25   \n",
       "2001-09-18    0.030082         -0.05  -0.000917         54.55         55.70   \n",
       "\n",
       "            63 day price  2 week gain  4 week gain  7 week gain  \n",
       "date                                                             \n",
       "2001-07-17         54.55    -0.002639     0.055409     0.028081  \n",
       "2001-08-21         58.98     0.032407     0.010185     0.092222  \n",
       "2001-09-05         59.85    -0.016952    -0.018034     0.079351  \n",
       "2001-09-06         59.37    -0.057699    -0.022124     0.050796  \n",
       "2001-09-18         59.40     0.000000     0.021082     0.088909  "
      ]
     },
     "execution_count": 8,
     "metadata": {},
     "output_type": "execute_result"
    }
   ],
   "source": [
    "teststock = df[df['ticker'] == 'JNJ']\n",
    "johnson = middle_of_month(teststock)\n",
    "johnson.head()"
   ]
  },
  {
   "cell_type": "code",
   "execution_count": 9,
   "metadata": {
    "collapsed": false
   },
   "outputs": [
    {
     "name": "stderr",
     "output_type": "stream",
     "text": [
      "/home/matthew/anaconda2/lib/python2.7/site-packages/ipykernel/__main__.py:2: SettingWithCopyWarning: \n",
      "A value is trying to be set on a copy of a slice from a DataFrame.\n",
      "Try using .loc[row_indexer,col_indexer] = value instead\n",
      "\n",
      "See the caveats in the documentation: http://pandas.pydata.org/pandas-docs/stable/indexing.html#indexing-view-versus-copy\n",
      "  from ipykernel import kernelapp as app\n"
     ]
    },
    {
     "ename": "MemoryError",
     "evalue": "",
     "output_type": "error",
     "traceback": [
      "\u001b[0;31m---------------------------------------------------------------------------\u001b[0m",
      "\u001b[0;31mMemoryError\u001b[0m                               Traceback (most recent call last)",
      "\u001b[0;32m<ipython-input-9-bd9d8df84770>\u001b[0m in \u001b[0;36m<module>\u001b[0;34m()\u001b[0m\n\u001b[1;32m      4\u001b[0m     \u001b[0mteststock\u001b[0m \u001b[0;34m=\u001b[0m \u001b[0mmiddle_of_month\u001b[0m\u001b[0;34m(\u001b[0m\u001b[0mteststock\u001b[0m\u001b[0;34m)\u001b[0m\u001b[0;34m\u001b[0m\u001b[0m\n\u001b[1;32m      5\u001b[0m     \u001b[0mvalue\u001b[0m \u001b[0;34m=\u001b[0m \u001b[0mteststock\u001b[0m\u001b[0;34m\u001b[0m\u001b[0m\n\u001b[0;32m----> 6\u001b[0;31m     \u001b[0mstocks\u001b[0m \u001b[0;34m=\u001b[0m \u001b[0mpd\u001b[0m\u001b[0;34m.\u001b[0m\u001b[0mconcat\u001b[0m\u001b[0;34m(\u001b[0m\u001b[0;34m[\u001b[0m\u001b[0mstocks\u001b[0m\u001b[0;34m,\u001b[0m \u001b[0mvalue\u001b[0m\u001b[0;34m]\u001b[0m\u001b[0;34m)\u001b[0m\u001b[0;34m\u001b[0m\u001b[0m\n\u001b[0m",
      "\u001b[0;32m/home/matthew/anaconda2/lib/python2.7/site-packages/pandas/core/reshape/concat.pyc\u001b[0m in \u001b[0;36mconcat\u001b[0;34m(objs, axis, join, join_axes, ignore_index, keys, levels, names, verify_integrity, copy)\u001b[0m\n\u001b[1;32m    204\u001b[0m                        \u001b[0mkeys\u001b[0m\u001b[0;34m=\u001b[0m\u001b[0mkeys\u001b[0m\u001b[0;34m,\u001b[0m \u001b[0mlevels\u001b[0m\u001b[0;34m=\u001b[0m\u001b[0mlevels\u001b[0m\u001b[0;34m,\u001b[0m \u001b[0mnames\u001b[0m\u001b[0;34m=\u001b[0m\u001b[0mnames\u001b[0m\u001b[0;34m,\u001b[0m\u001b[0;34m\u001b[0m\u001b[0m\n\u001b[1;32m    205\u001b[0m                        \u001b[0mverify_integrity\u001b[0m\u001b[0;34m=\u001b[0m\u001b[0mverify_integrity\u001b[0m\u001b[0;34m,\u001b[0m\u001b[0;34m\u001b[0m\u001b[0m\n\u001b[0;32m--> 206\u001b[0;31m                        copy=copy)\n\u001b[0m\u001b[1;32m    207\u001b[0m     \u001b[0;32mreturn\u001b[0m \u001b[0mop\u001b[0m\u001b[0;34m.\u001b[0m\u001b[0mget_result\u001b[0m\u001b[0;34m(\u001b[0m\u001b[0;34m)\u001b[0m\u001b[0;34m\u001b[0m\u001b[0m\n\u001b[1;32m    208\u001b[0m \u001b[0;34m\u001b[0m\u001b[0m\n",
      "\u001b[0;32m/home/matthew/anaconda2/lib/python2.7/site-packages/pandas/core/reshape/concat.pyc\u001b[0m in \u001b[0;36m__init__\u001b[0;34m(self, objs, axis, join, join_axes, keys, levels, names, ignore_index, verify_integrity, copy)\u001b[0m\n\u001b[1;32m    264\u001b[0m \u001b[0;34m\u001b[0m\u001b[0m\n\u001b[1;32m    265\u001b[0m             \u001b[0;31m# consolidate\u001b[0m\u001b[0;34m\u001b[0m\u001b[0;34m\u001b[0m\u001b[0m\n\u001b[0;32m--> 266\u001b[0;31m             \u001b[0mobj\u001b[0m\u001b[0;34m.\u001b[0m\u001b[0m_consolidate\u001b[0m\u001b[0;34m(\u001b[0m\u001b[0minplace\u001b[0m\u001b[0;34m=\u001b[0m\u001b[0mTrue\u001b[0m\u001b[0;34m)\u001b[0m\u001b[0;34m\u001b[0m\u001b[0m\n\u001b[0m\u001b[1;32m    267\u001b[0m             \u001b[0mndims\u001b[0m\u001b[0;34m.\u001b[0m\u001b[0madd\u001b[0m\u001b[0;34m(\u001b[0m\u001b[0mobj\u001b[0m\u001b[0;34m.\u001b[0m\u001b[0mndim\u001b[0m\u001b[0;34m)\u001b[0m\u001b[0;34m\u001b[0m\u001b[0m\n\u001b[1;32m    268\u001b[0m \u001b[0;34m\u001b[0m\u001b[0m\n",
      "\u001b[0;32m/home/matthew/anaconda2/lib/python2.7/site-packages/pandas/core/generic.pyc\u001b[0m in \u001b[0;36m_consolidate\u001b[0;34m(self, inplace)\u001b[0m\n\u001b[1;32m   3154\u001b[0m         \u001b[0minplace\u001b[0m \u001b[0;34m=\u001b[0m \u001b[0mvalidate_bool_kwarg\u001b[0m\u001b[0;34m(\u001b[0m\u001b[0minplace\u001b[0m\u001b[0;34m,\u001b[0m \u001b[0;34m'inplace'\u001b[0m\u001b[0;34m)\u001b[0m\u001b[0;34m\u001b[0m\u001b[0m\n\u001b[1;32m   3155\u001b[0m         \u001b[0;32mif\u001b[0m \u001b[0minplace\u001b[0m\u001b[0;34m:\u001b[0m\u001b[0;34m\u001b[0m\u001b[0m\n\u001b[0;32m-> 3156\u001b[0;31m             \u001b[0mself\u001b[0m\u001b[0;34m.\u001b[0m\u001b[0m_consolidate_inplace\u001b[0m\u001b[0;34m(\u001b[0m\u001b[0;34m)\u001b[0m\u001b[0;34m\u001b[0m\u001b[0m\n\u001b[0m\u001b[1;32m   3157\u001b[0m         \u001b[0;32melse\u001b[0m\u001b[0;34m:\u001b[0m\u001b[0;34m\u001b[0m\u001b[0m\n\u001b[1;32m   3158\u001b[0m             \u001b[0mf\u001b[0m \u001b[0;34m=\u001b[0m \u001b[0;32mlambda\u001b[0m\u001b[0;34m:\u001b[0m \u001b[0mself\u001b[0m\u001b[0;34m.\u001b[0m\u001b[0m_data\u001b[0m\u001b[0;34m.\u001b[0m\u001b[0mconsolidate\u001b[0m\u001b[0;34m(\u001b[0m\u001b[0;34m)\u001b[0m\u001b[0;34m\u001b[0m\u001b[0m\n",
      "\u001b[0;32m/home/matthew/anaconda2/lib/python2.7/site-packages/pandas/core/generic.pyc\u001b[0m in \u001b[0;36m_consolidate_inplace\u001b[0;34m(self)\u001b[0m\n\u001b[1;32m   3136\u001b[0m             \u001b[0mself\u001b[0m\u001b[0;34m.\u001b[0m\u001b[0m_data\u001b[0m \u001b[0;34m=\u001b[0m \u001b[0mself\u001b[0m\u001b[0;34m.\u001b[0m\u001b[0m_data\u001b[0m\u001b[0;34m.\u001b[0m\u001b[0mconsolidate\u001b[0m\u001b[0;34m(\u001b[0m\u001b[0;34m)\u001b[0m\u001b[0;34m\u001b[0m\u001b[0m\n\u001b[1;32m   3137\u001b[0m \u001b[0;34m\u001b[0m\u001b[0m\n\u001b[0;32m-> 3138\u001b[0;31m         \u001b[0mself\u001b[0m\u001b[0;34m.\u001b[0m\u001b[0m_protect_consolidate\u001b[0m\u001b[0;34m(\u001b[0m\u001b[0mf\u001b[0m\u001b[0;34m)\u001b[0m\u001b[0;34m\u001b[0m\u001b[0m\n\u001b[0m\u001b[1;32m   3139\u001b[0m \u001b[0;34m\u001b[0m\u001b[0m\n\u001b[1;32m   3140\u001b[0m     \u001b[0;32mdef\u001b[0m \u001b[0m_consolidate\u001b[0m\u001b[0;34m(\u001b[0m\u001b[0mself\u001b[0m\u001b[0;34m,\u001b[0m \u001b[0minplace\u001b[0m\u001b[0;34m=\u001b[0m\u001b[0mFalse\u001b[0m\u001b[0;34m)\u001b[0m\u001b[0;34m:\u001b[0m\u001b[0;34m\u001b[0m\u001b[0m\n",
      "\u001b[0;32m/home/matthew/anaconda2/lib/python2.7/site-packages/pandas/core/generic.pyc\u001b[0m in \u001b[0;36m_protect_consolidate\u001b[0;34m(self, f)\u001b[0m\n\u001b[1;32m   3125\u001b[0m         \"\"\"\n\u001b[1;32m   3126\u001b[0m         \u001b[0mblocks_before\u001b[0m \u001b[0;34m=\u001b[0m \u001b[0mlen\u001b[0m\u001b[0;34m(\u001b[0m\u001b[0mself\u001b[0m\u001b[0;34m.\u001b[0m\u001b[0m_data\u001b[0m\u001b[0;34m.\u001b[0m\u001b[0mblocks\u001b[0m\u001b[0;34m)\u001b[0m\u001b[0;34m\u001b[0m\u001b[0m\n\u001b[0;32m-> 3127\u001b[0;31m         \u001b[0mresult\u001b[0m \u001b[0;34m=\u001b[0m \u001b[0mf\u001b[0m\u001b[0;34m(\u001b[0m\u001b[0;34m)\u001b[0m\u001b[0;34m\u001b[0m\u001b[0m\n\u001b[0m\u001b[1;32m   3128\u001b[0m         \u001b[0;32mif\u001b[0m \u001b[0mlen\u001b[0m\u001b[0;34m(\u001b[0m\u001b[0mself\u001b[0m\u001b[0;34m.\u001b[0m\u001b[0m_data\u001b[0m\u001b[0;34m.\u001b[0m\u001b[0mblocks\u001b[0m\u001b[0;34m)\u001b[0m \u001b[0;34m!=\u001b[0m \u001b[0mblocks_before\u001b[0m\u001b[0;34m:\u001b[0m\u001b[0;34m\u001b[0m\u001b[0m\n\u001b[1;32m   3129\u001b[0m             \u001b[0mself\u001b[0m\u001b[0;34m.\u001b[0m\u001b[0m_clear_item_cache\u001b[0m\u001b[0;34m(\u001b[0m\u001b[0;34m)\u001b[0m\u001b[0;34m\u001b[0m\u001b[0m\n",
      "\u001b[0;32m/home/matthew/anaconda2/lib/python2.7/site-packages/pandas/core/generic.pyc\u001b[0m in \u001b[0;36mf\u001b[0;34m()\u001b[0m\n\u001b[1;32m   3134\u001b[0m \u001b[0;34m\u001b[0m\u001b[0m\n\u001b[1;32m   3135\u001b[0m         \u001b[0;32mdef\u001b[0m \u001b[0mf\u001b[0m\u001b[0;34m(\u001b[0m\u001b[0;34m)\u001b[0m\u001b[0;34m:\u001b[0m\u001b[0;34m\u001b[0m\u001b[0m\n\u001b[0;32m-> 3136\u001b[0;31m             \u001b[0mself\u001b[0m\u001b[0;34m.\u001b[0m\u001b[0m_data\u001b[0m \u001b[0;34m=\u001b[0m \u001b[0mself\u001b[0m\u001b[0;34m.\u001b[0m\u001b[0m_data\u001b[0m\u001b[0;34m.\u001b[0m\u001b[0mconsolidate\u001b[0m\u001b[0;34m(\u001b[0m\u001b[0;34m)\u001b[0m\u001b[0;34m\u001b[0m\u001b[0m\n\u001b[0m\u001b[1;32m   3137\u001b[0m \u001b[0;34m\u001b[0m\u001b[0m\n\u001b[1;32m   3138\u001b[0m         \u001b[0mself\u001b[0m\u001b[0;34m.\u001b[0m\u001b[0m_protect_consolidate\u001b[0m\u001b[0;34m(\u001b[0m\u001b[0mf\u001b[0m\u001b[0;34m)\u001b[0m\u001b[0;34m\u001b[0m\u001b[0m\n",
      "\u001b[0;32m/home/matthew/anaconda2/lib/python2.7/site-packages/pandas/core/internals.pyc\u001b[0m in \u001b[0;36mconsolidate\u001b[0;34m(self)\u001b[0m\n\u001b[1;32m   3571\u001b[0m         \u001b[0mbm\u001b[0m \u001b[0;34m=\u001b[0m \u001b[0mself\u001b[0m\u001b[0;34m.\u001b[0m\u001b[0m__class__\u001b[0m\u001b[0;34m(\u001b[0m\u001b[0mself\u001b[0m\u001b[0;34m.\u001b[0m\u001b[0mblocks\u001b[0m\u001b[0;34m,\u001b[0m \u001b[0mself\u001b[0m\u001b[0;34m.\u001b[0m\u001b[0maxes\u001b[0m\u001b[0;34m)\u001b[0m\u001b[0;34m\u001b[0m\u001b[0m\n\u001b[1;32m   3572\u001b[0m         \u001b[0mbm\u001b[0m\u001b[0;34m.\u001b[0m\u001b[0m_is_consolidated\u001b[0m \u001b[0;34m=\u001b[0m \u001b[0mFalse\u001b[0m\u001b[0;34m\u001b[0m\u001b[0m\n\u001b[0;32m-> 3573\u001b[0;31m         \u001b[0mbm\u001b[0m\u001b[0;34m.\u001b[0m\u001b[0m_consolidate_inplace\u001b[0m\u001b[0;34m(\u001b[0m\u001b[0;34m)\u001b[0m\u001b[0;34m\u001b[0m\u001b[0m\n\u001b[0m\u001b[1;32m   3574\u001b[0m         \u001b[0;32mreturn\u001b[0m \u001b[0mbm\u001b[0m\u001b[0;34m\u001b[0m\u001b[0m\n\u001b[1;32m   3575\u001b[0m \u001b[0;34m\u001b[0m\u001b[0m\n",
      "\u001b[0;32m/home/matthew/anaconda2/lib/python2.7/site-packages/pandas/core/internals.pyc\u001b[0m in \u001b[0;36m_consolidate_inplace\u001b[0;34m(self)\u001b[0m\n\u001b[1;32m   3576\u001b[0m     \u001b[0;32mdef\u001b[0m \u001b[0m_consolidate_inplace\u001b[0m\u001b[0;34m(\u001b[0m\u001b[0mself\u001b[0m\u001b[0;34m)\u001b[0m\u001b[0;34m:\u001b[0m\u001b[0;34m\u001b[0m\u001b[0m\n\u001b[1;32m   3577\u001b[0m         \u001b[0;32mif\u001b[0m \u001b[0;32mnot\u001b[0m \u001b[0mself\u001b[0m\u001b[0;34m.\u001b[0m\u001b[0mis_consolidated\u001b[0m\u001b[0;34m(\u001b[0m\u001b[0;34m)\u001b[0m\u001b[0;34m:\u001b[0m\u001b[0;34m\u001b[0m\u001b[0m\n\u001b[0;32m-> 3578\u001b[0;31m             \u001b[0mself\u001b[0m\u001b[0;34m.\u001b[0m\u001b[0mblocks\u001b[0m \u001b[0;34m=\u001b[0m \u001b[0mtuple\u001b[0m\u001b[0;34m(\u001b[0m\u001b[0m_consolidate\u001b[0m\u001b[0;34m(\u001b[0m\u001b[0mself\u001b[0m\u001b[0;34m.\u001b[0m\u001b[0mblocks\u001b[0m\u001b[0;34m)\u001b[0m\u001b[0;34m)\u001b[0m\u001b[0;34m\u001b[0m\u001b[0m\n\u001b[0m\u001b[1;32m   3579\u001b[0m             \u001b[0mself\u001b[0m\u001b[0;34m.\u001b[0m\u001b[0m_is_consolidated\u001b[0m \u001b[0;34m=\u001b[0m \u001b[0mTrue\u001b[0m\u001b[0;34m\u001b[0m\u001b[0m\n\u001b[1;32m   3580\u001b[0m             \u001b[0mself\u001b[0m\u001b[0;34m.\u001b[0m\u001b[0m_known_consolidated\u001b[0m \u001b[0;34m=\u001b[0m \u001b[0mTrue\u001b[0m\u001b[0;34m\u001b[0m\u001b[0m\n",
      "\u001b[0;32m/home/matthew/anaconda2/lib/python2.7/site-packages/pandas/core/internals.pyc\u001b[0m in \u001b[0;36m_consolidate\u001b[0;34m(blocks)\u001b[0m\n\u001b[1;32m   4523\u001b[0m     \u001b[0;32mfor\u001b[0m \u001b[0;34m(\u001b[0m\u001b[0m_can_consolidate\u001b[0m\u001b[0;34m,\u001b[0m \u001b[0mdtype\u001b[0m\u001b[0;34m)\u001b[0m\u001b[0;34m,\u001b[0m \u001b[0mgroup_blocks\u001b[0m \u001b[0;32min\u001b[0m \u001b[0mgrouper\u001b[0m\u001b[0;34m:\u001b[0m\u001b[0;34m\u001b[0m\u001b[0m\n\u001b[1;32m   4524\u001b[0m         merged_blocks = _merge_blocks(list(group_blocks), dtype=dtype,\n\u001b[0;32m-> 4525\u001b[0;31m                                       _can_consolidate=_can_consolidate)\n\u001b[0m\u001b[1;32m   4526\u001b[0m         \u001b[0mnew_blocks\u001b[0m \u001b[0;34m=\u001b[0m \u001b[0m_extend_blocks\u001b[0m\u001b[0;34m(\u001b[0m\u001b[0mmerged_blocks\u001b[0m\u001b[0;34m,\u001b[0m \u001b[0mnew_blocks\u001b[0m\u001b[0;34m)\u001b[0m\u001b[0;34m\u001b[0m\u001b[0m\n\u001b[1;32m   4527\u001b[0m     \u001b[0;32mreturn\u001b[0m \u001b[0mnew_blocks\u001b[0m\u001b[0;34m\u001b[0m\u001b[0m\n",
      "\u001b[0;32m/home/matthew/anaconda2/lib/python2.7/site-packages/pandas/core/internals.pyc\u001b[0m in \u001b[0;36m_merge_blocks\u001b[0;34m(blocks, dtype, _can_consolidate)\u001b[0m\n\u001b[1;32m   4546\u001b[0m \u001b[0;34m\u001b[0m\u001b[0m\n\u001b[1;32m   4547\u001b[0m         \u001b[0margsort\u001b[0m \u001b[0;34m=\u001b[0m \u001b[0mnp\u001b[0m\u001b[0;34m.\u001b[0m\u001b[0margsort\u001b[0m\u001b[0;34m(\u001b[0m\u001b[0mnew_mgr_locs\u001b[0m\u001b[0;34m)\u001b[0m\u001b[0;34m\u001b[0m\u001b[0m\n\u001b[0;32m-> 4548\u001b[0;31m         \u001b[0mnew_values\u001b[0m \u001b[0;34m=\u001b[0m \u001b[0mnew_values\u001b[0m\u001b[0;34m[\u001b[0m\u001b[0margsort\u001b[0m\u001b[0;34m]\u001b[0m\u001b[0;34m\u001b[0m\u001b[0m\n\u001b[0m\u001b[1;32m   4549\u001b[0m         \u001b[0mnew_mgr_locs\u001b[0m \u001b[0;34m=\u001b[0m \u001b[0mnew_mgr_locs\u001b[0m\u001b[0;34m[\u001b[0m\u001b[0margsort\u001b[0m\u001b[0;34m]\u001b[0m\u001b[0;34m\u001b[0m\u001b[0m\n\u001b[1;32m   4550\u001b[0m \u001b[0;34m\u001b[0m\u001b[0m\n",
      "\u001b[0;31mMemoryError\u001b[0m: "
     ]
    }
   ],
   "source": [
    "stocks = johnson\n",
    "for value in df['ticker']:\n",
    "    teststock = df[df['ticker'] == str(value)]\n",
    "    teststock = middle_of_month(teststock)\n",
    "    value = teststock\n",
    "    stocks = pd.concat([stocks, value])"
   ]
  },
  {
   "cell_type": "code",
   "execution_count": null,
   "metadata": {
    "collapsed": false
   },
   "outputs": [],
   "source": []
  },
  {
   "cell_type": "code",
   "execution_count": null,
   "metadata": {
    "collapsed": false
   },
   "outputs": [],
   "source": [
    "stocks.head()"
   ]
  },
  {
   "cell_type": "code",
   "execution_count": null,
   "metadata": {
    "collapsed": false
   },
   "outputs": [],
   "source": [
    "stocks['ticker'].value_counts()"
   ]
  },
  {
   "cell_type": "code",
   "execution_count": null,
   "metadata": {
    "collapsed": false
   },
   "outputs": [],
   "source": []
  },
  {
   "cell_type": "markdown",
   "metadata": {
    "collapsed": false
   },
   "source": [
    "# Load fundamental data"
   ]
  },
  {
   "cell_type": "code",
   "execution_count": null,
   "metadata": {
    "collapsed": false
   },
   "outputs": [],
   "source": []
  },
  {
   "cell_type": "code",
   "execution_count": null,
   "metadata": {
    "collapsed": false
   },
   "outputs": [],
   "source": [
    "stocks.isnull().sum()"
   ]
  },
  {
   "cell_type": "code",
   "execution_count": null,
   "metadata": {
    "collapsed": false
   },
   "outputs": [],
   "source": [
    "stocks = stocks.dropna()"
   ]
  },
  {
   "cell_type": "code",
   "execution_count": null,
   "metadata": {
    "collapsed": false
   },
   "outputs": [],
   "source": [
    "stocks.head()"
   ]
  },
  {
   "cell_type": "code",
   "execution_count": null,
   "metadata": {
    "collapsed": false
   },
   "outputs": [],
   "source": [
    "X = stocks.drop(['7 week gain','ticker','63 day price','date', 'Category: All categories'], 1)\n",
    "y = stocks['7 week gain']\n",
    "reg_scores = cross_val_score(LinearRegression(), X, y, cv=4)\n",
    "print reg_scores, np.mean(reg_scores)"
   ]
  },
  {
   "cell_type": "code",
   "execution_count": null,
   "metadata": {
    "collapsed": false
   },
   "outputs": [],
   "source": [
    "rf = RandomForestRegressor()\n",
    "rf.fit(X, y)\n",
    "names = X.dtypes.index\n",
    "print \"Features sorted by their score:\"\n",
    "print sorted(zip(map(lambda x: round(x, 4), rf.feature_importances_), names), \n",
    "             reverse=True)"
   ]
  },
  {
   "cell_type": "code",
   "execution_count": null,
   "metadata": {
    "collapsed": false
   },
   "outputs": [],
   "source": []
  },
  {
   "cell_type": "code",
   "execution_count": null,
   "metadata": {
    "collapsed": false
   },
   "outputs": [],
   "source": [
    "# Note the difference in argument order\n",
    "# optionally, you can chain \"fit()\" to the model object\n",
    "model = sm.OLS(y, X)\n",
    "model = model.fit()\n",
    "predictions = model.predict(X)\n",
    "\n",
    "# Plot the model\n",
    "plt.figure(figsize=(8,6))\n",
    "plt.scatter(predictions, y, s=30, c='r', marker='+', zorder=10)\n",
    "plt.xlabel(\"Predicted Values - $\\hat{y}$\")\n",
    "plt.ylabel(\"Actual Values - $y$\")\n",
    "plt.show()\n",
    "\n",
    "print \"MSE:\", mean_squared_error(y, predictions)"
   ]
  },
  {
   "cell_type": "code",
   "execution_count": null,
   "metadata": {
    "collapsed": false
   },
   "outputs": [],
   "source": [
    "model.summary()"
   ]
  },
  {
   "cell_type": "code",
   "execution_count": null,
   "metadata": {
    "collapsed": true
   },
   "outputs": [],
   "source": []
  }
 ],
 "metadata": {
  "kernelspec": {
   "display_name": "Python 2",
   "language": "python",
   "name": "python2"
  },
  "language_info": {
   "codemirror_mode": {
    "name": "ipython",
    "version": 2
   },
   "file_extension": ".py",
   "mimetype": "text/x-python",
   "name": "python",
   "nbconvert_exporter": "python",
   "pygments_lexer": "ipython2",
   "version": "2.7.13"
  }
 },
 "nbformat": 4,
 "nbformat_minor": 2
}
