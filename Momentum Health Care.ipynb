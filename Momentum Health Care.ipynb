{
 "cells": [
  {
   "cell_type": "code",
   "execution_count": null,
   "metadata": {
    "collapsed": false
   },
   "outputs": [],
   "source": [
    "import pandas as pd\n",
    "#import stockstats as StockDataFrame\n",
    "import seaborn as sns\n",
    "import numpy as np\n",
    "import scipy.stats as stats\n",
    "from sklearn.tree import DecisionTreeRegressor\n",
    "from sklearn.metrics import mean_squared_error\n",
    "from sklearn import preprocessing\n",
    "from sklearn import svm\n",
    "from sklearn.ensemble import RandomForestClassifier\n",
    "from sklearn.model_selection import cross_val_score\n",
    "from sklearn.linear_model import LinearRegression\n",
    "import statsmodels.api as sm\n",
    "\n",
    "from ipywidgets import *\n",
    "from IPython.display import display\n",
    "\n",
    "import seaborn as sns\n",
    "import matplotlib.pyplot as plt\n",
    "from sklearn.model_selection import train_test_split\n",
    "plt.rc(\"figure\", figsize=(9, 7))\n",
    "sns.set_style('whitegrid')\n",
    "\n",
    "%matplotlib inline\n",
    "pd.set_option('display.max_columns', 500)\n",
    "from sklearn.metrics import f1_score\n",
    "from scipy.optimize import least_squares\n",
    "from sklearn.ensemble import RandomForestRegressor\n",
    "from datetime import datetime"
   ]
  },
  {
   "cell_type": "markdown",
   "metadata": {},
   "source": [
    "# Load stock data"
   ]
  },
  {
   "cell_type": "code",
   "execution_count": null,
   "metadata": {
    "collapsed": false
   },
   "outputs": [],
   "source": [
    "df = pd.read_csv('toram.csv')"
   ]
  },
  {
   "cell_type": "code",
   "execution_count": null,
   "metadata": {
    "collapsed": true
   },
   "outputs": [],
   "source": [
    "def middle_of_month(name):\n",
    "    name['date'] = pd.DatetimeIndex(name['date'])\n",
    "    stockmiddle = name.loc[:,('date','open')]\n",
    "    stockmiddle['date'] = pd.DatetimeIndex(stockmiddle['date']) + pd.DateOffset(-14)\n",
    "    stockmiddle['14 day price'] = stockmiddle['open']\n",
    "    stockmiddle.set_index('date', drop=False, inplace=True)\n",
    "    stockmiddle.drop('open', 1, inplace=True)\n",
    "    stock30 = name.loc[:,('date','open')]\n",
    "    stock30['date'] = pd.DatetimeIndex(stock30['date']) + pd.DateOffset(-28)\n",
    "    stock30['28 day price'] = stock30['open']\n",
    "    stock30.set_index('date', drop=False, inplace=True)\n",
    "    stock30.drop('open', 1, inplace=True)\n",
    "    stock60 = name.loc[:,('date','open')]\n",
    "    stock60['date'] = pd.DatetimeIndex(stock60['date']) + pd.DateOffset(-63)\n",
    "    stock60['63 day price'] = stock60['open']\n",
    "    stock60.set_index('date', drop=False, inplace=True)\n",
    "    stock60.drop('open', 1, inplace=True)\n",
    "    name.set_index('date', drop=False, inplace=True)\n",
    "    output = pd.merge(name,stockmiddle, left_on='date', right_on='date')\n",
    "    output = pd.merge(output,stock30, left_on='date', right_on='date')\n",
    "    output = pd.merge(output,stock60, left_on='date', right_on='date')\n",
    "    output['2 week gain'] = (output['14 day price'] / output['open']) - 1\n",
    "    output['4 week gain'] = (output['28 day price'] / output['open']) - 1\n",
    "    output['7 week gain'] = (output['63 day price'] / output['open']) - 1\n",
    "    output.set_index('date', drop=False, inplace=True)\n",
    "    return output"
   ]
  },
  {
   "cell_type": "code",
   "execution_count": null,
   "metadata": {
    "collapsed": false
   },
   "outputs": [],
   "source": [
    "def derivative(data):\n",
    "    data = data.iloc[1:]\n",
    "    data['Category: All categories'] = data['Category: All categories'].astype(float)\n",
    "    data['derivative'] = data['Category: All categories'].diff(periods = 1)\n",
    "    data.index = [datetime.strptime(date, '%Y-%m-%d').date() for date in data.index]\n",
    "    data.index = data.index + pd.DateOffset(-2)\n",
    "    return data\n",
    "    \n",
    "def stock(stock,datastock):\n",
    "    stockdata = df[df['ticker'] == str(stock)]\n",
    "    datastock = middle_of_month(stockdata)\n",
    "    return datastock\n",
    "    \n",
    "def mergefunction(stock,derivative):\n",
    "    stock = stock.iloc[1:]\n",
    "    derivative = pd.merge(stock, derivative,\n",
    "                          left_index = True,\n",
    "                          right_index = True,\n",
    "                          how='inner')\n",
    "    return stock"
   ]
  },
  {
   "cell_type": "code",
   "execution_count": null,
   "metadata": {
    "collapsed": false
   },
   "outputs": [],
   "source": [
    "darden = pd.read_csv('trendsjohnson2.csv')\n",
    "darden = derivative(darden)\n",
    "teststock = df[df['ticker'] == 'JNJ']\n",
    "dardenstock = middle_of_month(teststock)\n",
    "#darden = darden.iloc[1:]\n",
    "johnson = pd.merge(dardenstock, darden,\n",
    "                    left_index = True,\n",
    "                    right_index = True,\n",
    "                    how='inner')\n",
    "johnson.head()"
   ]
  },
  {
   "cell_type": "code",
   "execution_count": null,
   "metadata": {
    "collapsed": false
   },
   "outputs": [],
   "source": [
    "dominos = pd.read_csv('trendspfizer.csv')\n",
    "dominos = derivative(dominos)\n",
    "teststock = df[df['ticker'] == 'PFE']\n",
    "dominostock = middle_of_month(teststock)\n",
    "dominos = dominos.iloc[1:]\n",
    "pfizer = pd.merge(dominostock, dominos,\n",
    "                    left_index = True,\n",
    "                    right_index = True,\n",
    "                    how='inner')\n",
    "pfizer.head()"
   ]
  },
  {
   "cell_type": "code",
   "execution_count": null,
   "metadata": {
    "collapsed": false
   },
   "outputs": [],
   "source": [
    "racism = pd.read_csv('trendsmerck.csv')\n",
    "racism = derivative(racism)\n",
    "teststock = df[df['ticker'] == 'MRK']\n",
    "raciststock = middle_of_month(teststock)\n",
    "racism = racism.iloc[1:]\n",
    "merck = pd.merge(raciststock, racism,\n",
    "                    left_index = True,\n",
    "                    right_index = True,\n",
    "                    how='inner')\n",
    "merck.head()"
   ]
  },
  {
   "cell_type": "code",
   "execution_count": null,
   "metadata": {
    "collapsed": false
   },
   "outputs": [],
   "source": [
    "texas = pd.read_csv('trendsunitedhealth.csv')\n",
    "texas = derivative(texas)\n",
    "teststock = df[df['ticker'] == 'UNH']\n",
    "texasstock = middle_of_month(teststock)\n",
    "texas = texas.iloc[1:]\n",
    "unitedhealth = pd.merge(texasstock, texas,\n",
    "                    left_index = True,\n",
    "                    right_index = True,\n",
    "                    how='inner')\n",
    "unitedhealth.head()"
   ]
  },
  {
   "cell_type": "code",
   "execution_count": null,
   "metadata": {
    "collapsed": false
   },
   "outputs": [],
   "source": [
    "jack = pd.read_csv('trendsamgen.csv')\n",
    "jack = derivative(jack)\n",
    "teststock = df[df['ticker'] == 'AMGN']\n",
    "jackstock = middle_of_month(teststock)\n",
    "jack = jack.iloc[1:]\n",
    "amgen = pd.merge(jackstock, jack,\n",
    "                    left_index = True,\n",
    "                    right_index = True,\n",
    "                    how='inner')\n",
    "amgen.head()"
   ]
  },
  {
   "cell_type": "code",
   "execution_count": null,
   "metadata": {
    "collapsed": false
   },
   "outputs": [],
   "source": [
    "daveandbusters = pd.read_csv('trendsmedtronic.csv')\n",
    "daveandbusters = derivative(daveandbusters)\n",
    "teststock = df[df['ticker'] == 'PLAY']\n",
    "davestock = middle_of_month(teststock)\n",
    "dave = daveandbusters.iloc[1:]\n",
    "medtronic = pd.merge(davestock, dave,\n",
    "                    left_index = True,\n",
    "                    right_index = True,\n",
    "                    how='inner')\n",
    "medtronic.head()"
   ]
  },
  {
   "cell_type": "code",
   "execution_count": null,
   "metadata": {
    "collapsed": false
   },
   "outputs": [],
   "source": [
    "gobble = pd.read_csv('trendsabbvie.csv')\n",
    "gobble = derivative(gobble)\n",
    "teststock = df[df['ticker'] == 'ABBV']\n",
    "gobblestock = middle_of_month(teststock)\n",
    "gobble = gobble.iloc[1:]\n",
    "abbvie = pd.merge(gobblestock, gobble,\n",
    "                    left_index = True,\n",
    "                    right_index = True,\n",
    "                    how='inner')\n",
    "abbvie.head()"
   ]
  },
  {
   "cell_type": "code",
   "execution_count": null,
   "metadata": {
    "collapsed": false
   },
   "outputs": [],
   "source": [
    "buffalo8 = pd.read_csv('trendsbristolmyerssquibb.csv')\n",
    "buffalo8 = derivative(buffalo8)\n",
    "teststock = df[df['ticker'] == 'BMY']\n",
    "buffalo8stock = middle_of_month(teststock)\n",
    "buffalo8 = buffalo8.iloc[1:]\n",
    "bristol = pd.merge(buffalo8stock, buffalo8,\n",
    "                    left_index = True,\n",
    "                    right_index = True,\n",
    "                    how='inner')\n",
    "bristol.head()"
   ]
  },
  {
   "cell_type": "code",
   "execution_count": null,
   "metadata": {
    "collapsed": false
   },
   "outputs": [],
   "source": [
    "walmart = pd.read_csv('trends_eli_lilly.csv')\n",
    "walmart = derivative(walmart)\n",
    "teststock = df[df['ticker'] == 'LLY']\n",
    "walmartstock = middle_of_month(teststock)\n",
    "walmart = walmart.iloc[1:]\n",
    "elililly = pd.merge(walmartstock, walmart,\n",
    "                    left_index = True,\n",
    "                    right_index = True,\n",
    "                    how='inner')\n",
    "elililly.head()"
   ]
  },
  {
   "cell_type": "code",
   "execution_count": null,
   "metadata": {
    "collapsed": false
   },
   "outputs": [],
   "source": [
    "costco = pd.read_csv('trendsgilead.csv')\n",
    "costco = derivative(costco)\n",
    "teststock = df[df['ticker'] == 'GILD']\n",
    "costcostock = middle_of_month(teststock)\n",
    "costco = costco.iloc[1:]\n",
    "gilead = pd.merge(costcostock, costco,\n",
    "                    left_index = True,\n",
    "                    right_index = True,\n",
    "                    how='inner')\n",
    "gilead.head()"
   ]
  },
  {
   "cell_type": "code",
   "execution_count": null,
   "metadata": {
    "collapsed": false
   },
   "outputs": [],
   "source": [
    "target = pd.read_csv('trendscvs.csv')\n",
    "target = derivative(target)\n",
    "teststock = df[df['ticker'] == 'CVS']\n",
    "targetstock = middle_of_month(teststock)\n",
    "target = target.iloc[1:]\n",
    "cvs = pd.merge(targetstock, target,\n",
    "                    left_index = True,\n",
    "                    right_index = True,\n",
    "                    how='inner')\n",
    "cvs.head()"
   ]
  },
  {
   "cell_type": "code",
   "execution_count": null,
   "metadata": {
    "collapsed": false
   },
   "outputs": [],
   "source": [
    "dollargeneral = pd.read_csv('trendsallergan.csv')\n",
    "dollargeneral = derivative(dollargeneral)\n",
    "teststock = df[df['ticker'] == 'AGN']\n",
    "dollargeneralstock = middle_of_month(teststock)\n",
    "dollargeneral = dollargeneral[1:]\n",
    "allergan = pd.merge(dollargeneralstock, dollargeneral,\n",
    "                    left_index = True,\n",
    "                    right_index = True,\n",
    "                    how='inner')\n",
    "allergan.head()"
   ]
  },
  {
   "cell_type": "code",
   "execution_count": null,
   "metadata": {
    "collapsed": false
   },
   "outputs": [],
   "source": [
    "dollartree = pd.read_csv('trendsthermofisher.csv')\n",
    "dollartree = derivative(dollartree)\n",
    "teststock = df[df['ticker'] == 'TMO']\n",
    "dollartreestock = middle_of_month(teststock)\n",
    "dollartree = dollartree.iloc[1:]\n",
    "thermofisher = pd.merge(dollartreestock, dollartree,\n",
    "                    left_index = True,\n",
    "                    right_index = True,\n",
    "                    how='inner')\n",
    "thermofisher.head()"
   ]
  },
  {
   "cell_type": "code",
   "execution_count": null,
   "metadata": {
    "collapsed": false
   },
   "outputs": [],
   "source": [
    "burlington = pd.read_csv('trendsbiogen.csv')\n",
    "burlington = derivative(burlington)\n",
    "teststock = df[df['ticker'] == 'BIIB']\n",
    "burlingtonstock = middle_of_month(teststock)\n",
    "burlington = burlington.iloc[1:]\n",
    "biogen = pd.merge(burlingtonstock, burlington,\n",
    "                    left_index = True,\n",
    "                    right_index = True,\n",
    "                    how='inner')\n",
    "biogen.head()"
   ]
  },
  {
   "cell_type": "code",
   "execution_count": null,
   "metadata": {
    "collapsed": false
   },
   "outputs": [],
   "source": [
    "burlington = pd.read_csv('trendsregeneron.csv')\n",
    "burlington = derivative(burlington)\n",
    "teststock = df[df['ticker'] == 'REGN']\n",
    "burlingtonstock = middle_of_month(teststock)\n",
    "burlington = burlington.iloc[1:]\n",
    "regeneron = pd.merge(burlingtonstock, burlington,\n",
    "                    left_index = True,\n",
    "                    right_index = True,\n",
    "                    how='inner')\n",
    "regeneron.head()"
   ]
  },
  {
   "cell_type": "code",
   "execution_count": null,
   "metadata": {
    "collapsed": false
   },
   "outputs": [],
   "source": [
    "burlington = pd.read_csv('trendsaetna.csv')\n",
    "burlington = derivative(burlington)\n",
    "teststock = df[df['ticker'] == 'AET']\n",
    "burlingtonstock = middle_of_month(teststock)\n",
    "burlington = burlington.iloc[1:]\n",
    "aetna = pd.merge(burlingtonstock, burlington,\n",
    "                    left_index = True,\n",
    "                    right_index = True,\n",
    "                    how='inner')\n",
    "aetna.head()"
   ]
  },
  {
   "cell_type": "code",
   "execution_count": null,
   "metadata": {
    "collapsed": false
   },
   "outputs": [],
   "source": [
    "burlington = pd.read_csv('trendsanthem.csv')\n",
    "burlington = derivative(burlington)\n",
    "teststock = df[df['ticker'] == 'ANTM']\n",
    "burlingtonstock = middle_of_month(teststock)\n",
    "burlington = burlington.iloc[1:]\n",
    "anthem = pd.merge(burlingtonstock, burlington,\n",
    "                    left_index = True,\n",
    "                    right_index = True,\n",
    "                    how='inner')\n",
    "anthem.head()"
   ]
  },
  {
   "cell_type": "code",
   "execution_count": null,
   "metadata": {
    "collapsed": false
   },
   "outputs": [],
   "source": [
    "burlington = pd.read_csv('trendsbecton.csv')\n",
    "burlington = derivative(burlington)\n",
    "teststock = df[df['ticker'] == 'BDX']\n",
    "burlingtonstock = middle_of_month(teststock)\n",
    "burlington = burlington.iloc[1:]\n",
    "becton = pd.merge(burlingtonstock, burlington,\n",
    "                    left_index = True,\n",
    "                    right_index = True,\n",
    "                    how='inner')\n",
    "becton.head()"
   ]
  },
  {
   "cell_type": "code",
   "execution_count": null,
   "metadata": {
    "collapsed": false,
    "scrolled": true
   },
   "outputs": [],
   "source": [
    "burlington = pd.read_csv('trendscigna.csv')\n",
    "burlington = derivative(burlington)\n",
    "teststock = df[df['ticker'] == 'CI']\n",
    "burlingtonstock = middle_of_month(teststock)\n",
    "burlington = burlington.iloc[1:]\n",
    "cigna = pd.merge(burlingtonstock, burlington,\n",
    "                    left_index = True,\n",
    "                    right_index = True,\n",
    "                    how='inner')\n",
    "cigna.head()"
   ]
  },
  {
   "cell_type": "code",
   "execution_count": null,
   "metadata": {
    "collapsed": false
   },
   "outputs": [],
   "source": [
    "burlington = pd.read_csv('trendsexpress_scripts.csv')\n",
    "burlington = derivative(burlington)\n",
    "teststock = df[df['ticker'] == 'ESRX']\n",
    "burlingtonstock = middle_of_month(teststock)\n",
    "burlington = burlington.iloc[1:]\n",
    "expressscripts = pd.merge(burlingtonstock, burlington,\n",
    "                    left_index = True,\n",
    "                    right_index = True,\n",
    "                    how='inner')\n",
    "expressscripts.head()"
   ]
  },
  {
   "cell_type": "code",
   "execution_count": null,
   "metadata": {
    "collapsed": false
   },
   "outputs": [],
   "source": [
    "burlington = pd.read_csv('trendsboston_scientific.csv')\n",
    "burlington = derivative(burlington)\n",
    "teststock = df[df['ticker'] == 'BSX']\n",
    "burlingtonstock = middle_of_month(teststock)\n",
    "burlington = burlington.iloc[1:]\n",
    "boston = pd.merge(burlingtonstock, burlington,\n",
    "                    left_index = True,\n",
    "                    right_index = True,\n",
    "                    how='inner')\n",
    "boston.head()"
   ]
  },
  {
   "cell_type": "code",
   "execution_count": null,
   "metadata": {
    "collapsed": false
   },
   "outputs": [],
   "source": [
    "burlington = pd.read_csv('trendsintuitive_surgical.csv')\n",
    "burlington = derivative(burlington)\n",
    "teststock = df[df['ticker'] == 'ISRG']\n",
    "burlingtonstock = middle_of_month(teststock)\n",
    "burlington = burlington.iloc[1:]\n",
    "intuitive = pd.merge(burlingtonstock, burlington,\n",
    "                    left_index = True,\n",
    "                    right_index = True,\n",
    "                    how='inner')\n",
    "intuitive.head()"
   ]
  },
  {
   "cell_type": "code",
   "execution_count": null,
   "metadata": {
    "collapsed": false
   },
   "outputs": [],
   "source": [
    "burlington = pd.read_csv('trendshumana.csv')\n",
    "burlington = derivative(burlington)\n",
    "teststock = df[df['ticker'] == 'HUM']\n",
    "burlingtonstock = middle_of_month(teststock)\n",
    "burlington = burlington.iloc[1:]\n",
    "humana = pd.merge(burlingtonstock, burlington,\n",
    "                    left_index = True,\n",
    "                    right_index = True,\n",
    "                    how='inner')\n",
    "humana.head()"
   ]
  },
  {
   "cell_type": "code",
   "execution_count": null,
   "metadata": {
    "collapsed": false
   },
   "outputs": [],
   "source": [
    "burlington = pd.read_csv('trendsvertex.csv')\n",
    "burlington = derivative(burlington)\n",
    "teststock = df[df['ticker'] == 'VRTX']\n",
    "burlingtonstock = middle_of_month(teststock)\n",
    "burlington = burlington.iloc[1:]\n",
    "vertex = pd.merge(burlingtonstock, burlington,\n",
    "                    left_index = True,\n",
    "                    right_index = True,\n",
    "                    how='inner')\n",
    "vertex.head()"
   ]
  },
  {
   "cell_type": "code",
   "execution_count": null,
   "metadata": {
    "collapsed": false
   },
   "outputs": [],
   "source": [
    "burlington = pd.read_csv('trendsbaxter.csv')\n",
    "burlington = derivative(burlington)\n",
    "teststock = df[df['ticker'] == 'BAX']\n",
    "burlingtonstock = middle_of_month(teststock)\n",
    "burlington = burlington.iloc[1:]\n",
    "baxter = pd.merge(burlingtonstock, burlington,\n",
    "                    left_index = True,\n",
    "                    right_index = True,\n",
    "                    how='inner')\n",
    "baxter.head()"
   ]
  },
  {
   "cell_type": "code",
   "execution_count": null,
   "metadata": {
    "collapsed": false
   },
   "outputs": [],
   "source": [
    "burlington = pd.read_csv('trends_hca.csv')\n",
    "burlington = derivative(burlington)\n",
    "teststock = df[df['ticker'] == 'HCA']\n",
    "burlingtonstock = middle_of_month(teststock)\n",
    "burlington = burlington.iloc[1:]\n",
    "hca = pd.merge(burlingtonstock, burlington,\n",
    "                    left_index = True,\n",
    "                    right_index = True,\n",
    "                    how='inner')\n",
    "hca.head()"
   ]
  },
  {
   "cell_type": "code",
   "execution_count": null,
   "metadata": {
    "collapsed": false
   },
   "outputs": [],
   "source": [
    "burlington = pd.read_csv('trendszoetis.csv')\n",
    "burlington = derivative(burlington)\n",
    "teststock = df[df['ticker'] == 'BIIB']\n",
    "burlingtonstock = middle_of_month(teststock)\n",
    "burlington = burlington.iloc[1:]\n",
    "zoetis = pd.merge(burlingtonstock, burlington,\n",
    "                    left_index = True,\n",
    "                    right_index = True,\n",
    "                    how='inner')\n",
    "zoetis.head()"
   ]
  },
  {
   "cell_type": "code",
   "execution_count": null,
   "metadata": {
    "collapsed": false
   },
   "outputs": [],
   "source": [
    "medical = pd.concat([johnson, pfizer,merck, unitedhealth,amgen,medtronic,abbvie,bristol,elililly,gilead,cvs,allergan,thermofisher,biogen,regeneron,aetna,aetna,anthem,becton,cigna,expressscripts,boston,intuitive,humana,vertex,baxter,hca,zoetis])"
   ]
  },
  {
   "cell_type": "code",
   "execution_count": null,
   "metadata": {
    "collapsed": false
   },
   "outputs": [],
   "source": [
    "medical.shape"
   ]
  },
  {
   "cell_type": "code",
   "execution_count": null,
   "metadata": {
    "collapsed": false
   },
   "outputs": [],
   "source": [
    "medical['date'] = pd.to_datetime(medical['date'])"
   ]
  },
  {
   "cell_type": "markdown",
   "metadata": {
    "collapsed": false
   },
   "source": [
    "# Load fundamental data"
   ]
  },
  {
   "cell_type": "code",
   "execution_count": null,
   "metadata": {
    "collapsed": false
   },
   "outputs": [],
   "source": []
  },
  {
   "cell_type": "code",
   "execution_count": null,
   "metadata": {
    "collapsed": false
   },
   "outputs": [],
   "source": [
    "medical.isnull().sum()"
   ]
  },
  {
   "cell_type": "code",
   "execution_count": null,
   "metadata": {
    "collapsed": false
   },
   "outputs": [],
   "source": [
    "medical = medical.dropna()"
   ]
  },
  {
   "cell_type": "code",
   "execution_count": null,
   "metadata": {
    "collapsed": false
   },
   "outputs": [],
   "source": [
    "medical.head()"
   ]
  },
  {
   "cell_type": "code",
   "execution_count": null,
   "metadata": {
    "collapsed": false
   },
   "outputs": [],
   "source": [
    "X = medical.drop(['7 week gain','ticker','63 day price','date', 'Category: All categories'], 1)\n",
    "y = medical['7 week gain']\n",
    "reg_scores = cross_val_score(LinearRegression(), X, y, cv=4)\n",
    "print reg_scores, np.mean(reg_scores)"
   ]
  },
  {
   "cell_type": "code",
   "execution_count": null,
   "metadata": {
    "collapsed": false
   },
   "outputs": [],
   "source": [
    "rf = RandomForestRegressor()\n",
    "rf.fit(X, y)\n",
    "names = X.dtypes.index\n",
    "print \"Features sorted by their score:\"\n",
    "print sorted(zip(map(lambda x: round(x, 4), rf.feature_importances_), names), \n",
    "             reverse=True)"
   ]
  },
  {
   "cell_type": "code",
   "execution_count": null,
   "metadata": {
    "collapsed": false
   },
   "outputs": [],
   "source": []
  },
  {
   "cell_type": "code",
   "execution_count": null,
   "metadata": {
    "collapsed": false
   },
   "outputs": [],
   "source": [
    "# Note the difference in argument order\n",
    "# optionally, you can chain \"fit()\" to the model object\n",
    "model = sm.OLS(y, X)\n",
    "model = model.fit()\n",
    "predictions = model.predict(X)\n",
    "\n",
    "# Plot the model\n",
    "plt.figure(figsize=(8,6))\n",
    "plt.scatter(predictions, y, s=30, c='r', marker='+', zorder=10)\n",
    "plt.xlabel(\"Predicted Values - $\\hat{y}$\")\n",
    "plt.ylabel(\"Actual Values - $y$\")\n",
    "plt.show()\n",
    "\n",
    "print \"MSE:\", mean_squared_error(y, predictions)"
   ]
  },
  {
   "cell_type": "code",
   "execution_count": null,
   "metadata": {
    "collapsed": false
   },
   "outputs": [],
   "source": [
    "model.summary()"
   ]
  },
  {
   "cell_type": "code",
   "execution_count": null,
   "metadata": {
    "collapsed": true
   },
   "outputs": [],
   "source": [
    "def perf_measure(y_actual, y_hat):\n",
    "    TP = 0\n",
    "    FP = 0\n",
    "    TN = 0\n",
    "    FN = 0\n",
    "\n",
    "    for i in range(len(y_hat)): \n",
    "        if y_actual[i] and y_hat[i] > 0:\n",
    "           TP += 1\n",
    "    for i in range(len(y_hat)): \n",
    "        if y_hat[i] > 0 and y_actual[i] < 0:\n",
    "           FP += 1\n",
    "    for i in range(len(y_hat)): \n",
    "        if y_actual[i] and y_hat[i] < 0:\n",
    "           TN += 1\n",
    "    for i in range(len(y_hat)): \n",
    "        if y_hat[i] < 0 and y_actual[i] > 0:\n",
    "           FN += 1\n",
    "    return(TP, FP, TN, FN)"
   ]
  },
  {
   "cell_type": "code",
   "execution_count": null,
   "metadata": {
    "collapsed": true
   },
   "outputs": [],
   "source": [
    "perf_measure(predictions, y)"
   ]
  },
  {
   "cell_type": "code",
   "execution_count": null,
   "metadata": {
    "collapsed": true
   },
   "outputs": [],
   "source": []
  }
 ],
 "metadata": {
  "kernelspec": {
   "display_name": "Python 2",
   "language": "python",
   "name": "python2"
  },
  "language_info": {
   "codemirror_mode": {
    "name": "ipython",
    "version": 2
   },
   "file_extension": ".py",
   "mimetype": "text/x-python",
   "name": "python",
   "nbconvert_exporter": "python",
   "pygments_lexer": "ipython2",
   "version": "2.7.13"
  }
 },
 "nbformat": 4,
 "nbformat_minor": 2
}
