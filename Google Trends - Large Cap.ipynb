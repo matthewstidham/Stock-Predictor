{
 "cells": [
  {
   "cell_type": "code",
   "execution_count": 1,
   "metadata": {
    "collapsed": false
   },
   "outputs": [
    {
     "name": "stderr",
     "output_type": "stream",
     "text": [
      "/home/matthew/anaconda2/lib/python2.7/site-packages/statsmodels/compat/pandas.py:56: FutureWarning: The pandas.core.datetools module is deprecated and will be removed in a future version. Please use the pandas.tseries module instead.\n",
      "  from pandas.core import datetools\n"
     ]
    }
   ],
   "source": [
    "import pandas as pd\n",
    "#import stockstats as StockDataFrame\n",
    "import seaborn as sns\n",
    "import numpy as np\n",
    "import scipy.stats as stats\n",
    "from sklearn.tree import DecisionTreeRegressor\n",
    "from sklearn.metrics import mean_squared_error\n",
    "from sklearn import preprocessing\n",
    "from sklearn import svm\n",
    "from sklearn.ensemble import RandomForestClassifier\n",
    "from sklearn.model_selection import cross_val_score\n",
    "from sklearn.linear_model import LinearRegression\n",
    "import statsmodels.api as sm\n",
    "\n",
    "from ipywidgets import *\n",
    "from IPython.display import display\n",
    "\n",
    "import seaborn as sns\n",
    "import matplotlib.pyplot as plt\n",
    "from sklearn.model_selection import train_test_split\n",
    "plt.rc(\"figure\", figsize=(9, 7))\n",
    "sns.set_style('whitegrid')\n",
    "\n",
    "%matplotlib inline\n",
    "pd.set_option('display.max_columns', 500)\n",
    "from sklearn.metrics import f1_score\n",
    "from scipy.optimize import least_squares\n",
    "from sklearn.ensemble import RandomForestRegressor\n",
    "from datetime import datetime"
   ]
  },
  {
   "cell_type": "markdown",
   "metadata": {},
   "source": [
    "# Load stock data"
   ]
  },
  {
   "cell_type": "code",
   "execution_count": 2,
   "metadata": {
    "collapsed": false
   },
   "outputs": [],
   "source": [
    "df = pd.read_csv('toram.csv')"
   ]
  },
  {
   "cell_type": "code",
   "execution_count": 3,
   "metadata": {
    "collapsed": true
   },
   "outputs": [],
   "source": [
    "def middle_of_month(name):\n",
    "    name['date'] = pd.DatetimeIndex(name['date'])\n",
    "    stockmiddle = name.loc[:,('date','open')]\n",
    "    stockmiddle['date'] = pd.DatetimeIndex(stockmiddle['date']) + pd.DateOffset(-14)\n",
    "    stockmiddle['middle price'] = stockmiddle['open']\n",
    "    stockmiddle.set_index('date', drop=False, inplace=True)\n",
    "    stockmiddle.drop('open', 1, inplace=True)\n",
    "    name.set_index('date', drop=False, inplace=True)\n",
    "    output = pd.merge(name,stockmiddle, left_on='date', right_on='date')\n",
    "    output['half month gain'] = (output['middle price'] / output['open']) - 1\n",
    "    output.set_index('date', drop=False, inplace=True)\n",
    "    return output"
   ]
  },
  {
   "cell_type": "code",
   "execution_count": 4,
   "metadata": {
    "collapsed": false
   },
   "outputs": [],
   "source": [
    "def derivative(data):\n",
    "    data = data.iloc[1:]\n",
    "    data['Category: All categories'] = data['Category: All categories'].astype(float)\n",
    "    data['derivative'] = data['Category: All categories'].diff(periods = 1)\n",
    "    data.index = [datetime.strptime(date, '%Y-%m').date() for date in data.index]\n",
    "    return data\n",
    "    \n",
    "def stock(stock,datastock):\n",
    "    stockdata = df[df['ticker'] == str(stock)]\n",
    "    datastock = middle_of_month(stockdata)\n",
    "    return datastock\n",
    "    \n",
    "def mergefunction(stock,derivative):\n",
    "    stock = stock.iloc[1:]\n",
    "    derivative = pd.merge(stock, derivative,\n",
    "                          left_index = True,\n",
    "                          right_index = True,\n",
    "                          how='inner')\n",
    "    return stock"
   ]
  },
  {
   "cell_type": "code",
   "execution_count": 5,
   "metadata": {
    "collapsed": false
   },
   "outputs": [
    {
     "name": "stderr",
     "output_type": "stream",
     "text": [
      "/home/matthew/anaconda2/lib/python2.7/site-packages/ipykernel/__main__.py:3: SettingWithCopyWarning: \n",
      "A value is trying to be set on a copy of a slice from a DataFrame.\n",
      "Try using .loc[row_indexer,col_indexer] = value instead\n",
      "\n",
      "See the caveats in the documentation: http://pandas.pydata.org/pandas-docs/stable/indexing.html#indexing-view-versus-copy\n",
      "  app.launch_new_instance()\n",
      "/home/matthew/anaconda2/lib/python2.7/site-packages/ipykernel/__main__.py:4: SettingWithCopyWarning: \n",
      "A value is trying to be set on a copy of a slice from a DataFrame.\n",
      "Try using .loc[row_indexer,col_indexer] = value instead\n",
      "\n",
      "See the caveats in the documentation: http://pandas.pydata.org/pandas-docs/stable/indexing.html#indexing-view-versus-copy\n"
     ]
    },
    {
     "ename": "ValueError",
     "evalue": "unconverted data remains: -24",
     "output_type": "error",
     "traceback": [
      "\u001b[0;31m---------------------------------------------------------------------------\u001b[0m",
      "\u001b[0;31mValueError\u001b[0m                                Traceback (most recent call last)",
      "\u001b[0;32m<ipython-input-5-58efe44701ff>\u001b[0m in \u001b[0;36m<module>\u001b[0;34m()\u001b[0m\n\u001b[1;32m      1\u001b[0m \u001b[0mdarden\u001b[0m \u001b[0;34m=\u001b[0m \u001b[0mpd\u001b[0m\u001b[0;34m.\u001b[0m\u001b[0mread_csv\u001b[0m\u001b[0;34m(\u001b[0m\u001b[0;34m'google trends.csv'\u001b[0m\u001b[0;34m)\u001b[0m\u001b[0;34m\u001b[0m\u001b[0m\n\u001b[0;32m----> 2\u001b[0;31m \u001b[0mdarden\u001b[0m \u001b[0;34m=\u001b[0m \u001b[0mderivative\u001b[0m\u001b[0;34m(\u001b[0m\u001b[0mdarden\u001b[0m\u001b[0;34m)\u001b[0m\u001b[0;34m\u001b[0m\u001b[0m\n\u001b[0m\u001b[1;32m      3\u001b[0m \u001b[0mteststock\u001b[0m \u001b[0;34m=\u001b[0m \u001b[0mdf\u001b[0m\u001b[0;34m[\u001b[0m\u001b[0mdf\u001b[0m\u001b[0;34m[\u001b[0m\u001b[0;34m'ticker'\u001b[0m\u001b[0;34m]\u001b[0m \u001b[0;34m==\u001b[0m \u001b[0;34m'GOOG'\u001b[0m\u001b[0;34m]\u001b[0m\u001b[0;34m\u001b[0m\u001b[0m\n\u001b[1;32m      4\u001b[0m \u001b[0mdardenstock\u001b[0m \u001b[0;34m=\u001b[0m \u001b[0mmiddle_of_month\u001b[0m\u001b[0;34m(\u001b[0m\u001b[0mteststock\u001b[0m\u001b[0;34m)\u001b[0m\u001b[0;34m\u001b[0m\u001b[0m\n\u001b[1;32m      5\u001b[0m \u001b[0;31m#darden = darden.iloc[1:]\u001b[0m\u001b[0;34m\u001b[0m\u001b[0;34m\u001b[0m\u001b[0m\n",
      "\u001b[0;32m<ipython-input-4-ef646a9f3507>\u001b[0m in \u001b[0;36mderivative\u001b[0;34m(data)\u001b[0m\n\u001b[1;32m      3\u001b[0m     \u001b[0mdata\u001b[0m\u001b[0;34m[\u001b[0m\u001b[0;34m'Category: All categories'\u001b[0m\u001b[0;34m]\u001b[0m \u001b[0;34m=\u001b[0m \u001b[0mdata\u001b[0m\u001b[0;34m[\u001b[0m\u001b[0;34m'Category: All categories'\u001b[0m\u001b[0;34m]\u001b[0m\u001b[0;34m.\u001b[0m\u001b[0mastype\u001b[0m\u001b[0;34m(\u001b[0m\u001b[0mfloat\u001b[0m\u001b[0;34m)\u001b[0m\u001b[0;34m\u001b[0m\u001b[0m\n\u001b[1;32m      4\u001b[0m     \u001b[0mdata\u001b[0m\u001b[0;34m[\u001b[0m\u001b[0;34m'derivative'\u001b[0m\u001b[0;34m]\u001b[0m \u001b[0;34m=\u001b[0m \u001b[0mdata\u001b[0m\u001b[0;34m[\u001b[0m\u001b[0;34m'Category: All categories'\u001b[0m\u001b[0;34m]\u001b[0m\u001b[0;34m.\u001b[0m\u001b[0mdiff\u001b[0m\u001b[0;34m(\u001b[0m\u001b[0mperiods\u001b[0m \u001b[0;34m=\u001b[0m \u001b[0;36m1\u001b[0m\u001b[0;34m)\u001b[0m\u001b[0;34m\u001b[0m\u001b[0m\n\u001b[0;32m----> 5\u001b[0;31m     \u001b[0mdata\u001b[0m\u001b[0;34m.\u001b[0m\u001b[0mindex\u001b[0m \u001b[0;34m=\u001b[0m \u001b[0;34m[\u001b[0m\u001b[0mdatetime\u001b[0m\u001b[0;34m.\u001b[0m\u001b[0mstrptime\u001b[0m\u001b[0;34m(\u001b[0m\u001b[0mdate\u001b[0m\u001b[0;34m,\u001b[0m \u001b[0;34m'%Y-%m'\u001b[0m\u001b[0;34m)\u001b[0m\u001b[0;34m.\u001b[0m\u001b[0mdate\u001b[0m\u001b[0;34m(\u001b[0m\u001b[0;34m)\u001b[0m \u001b[0;32mfor\u001b[0m \u001b[0mdate\u001b[0m \u001b[0;32min\u001b[0m \u001b[0mdata\u001b[0m\u001b[0;34m.\u001b[0m\u001b[0mindex\u001b[0m\u001b[0;34m]\u001b[0m\u001b[0;34m\u001b[0m\u001b[0m\n\u001b[0m\u001b[1;32m      6\u001b[0m     \u001b[0;32mreturn\u001b[0m \u001b[0mdata\u001b[0m\u001b[0;34m\u001b[0m\u001b[0m\n\u001b[1;32m      7\u001b[0m \u001b[0;34m\u001b[0m\u001b[0m\n",
      "\u001b[0;32m/home/matthew/anaconda2/lib/python2.7/_strptime.pyc\u001b[0m in \u001b[0;36m_strptime\u001b[0;34m(data_string, format)\u001b[0m\n\u001b[1;32m    333\u001b[0m     \u001b[0;32mif\u001b[0m \u001b[0mlen\u001b[0m\u001b[0;34m(\u001b[0m\u001b[0mdata_string\u001b[0m\u001b[0;34m)\u001b[0m \u001b[0;34m!=\u001b[0m \u001b[0mfound\u001b[0m\u001b[0;34m.\u001b[0m\u001b[0mend\u001b[0m\u001b[0;34m(\u001b[0m\u001b[0;34m)\u001b[0m\u001b[0;34m:\u001b[0m\u001b[0;34m\u001b[0m\u001b[0m\n\u001b[1;32m    334\u001b[0m         raise ValueError(\"unconverted data remains: %s\" %\n\u001b[0;32m--> 335\u001b[0;31m                           data_string[found.end():])\n\u001b[0m\u001b[1;32m    336\u001b[0m \u001b[0;34m\u001b[0m\u001b[0m\n\u001b[1;32m    337\u001b[0m     \u001b[0myear\u001b[0m \u001b[0;34m=\u001b[0m \u001b[0mNone\u001b[0m\u001b[0;34m\u001b[0m\u001b[0m\n",
      "\u001b[0;31mValueError\u001b[0m: unconverted data remains: -24"
     ]
    }
   ],
   "source": [
    "darden = pd.read_csv('google trends.csv')\n",
    "darden = derivative(darden)\n",
    "teststock = df[df['ticker'] == 'GOOG']\n",
    "dardenstock = middle_of_month(teststock)\n",
    "#darden = darden.iloc[1:]\n",
    "google = pd.merge(dardenstock, darden,\n",
    "                    left_index = True,\n",
    "                    right_index = True,\n",
    "                    how='inner')\n",
    "google.head()"
   ]
  },
  {
   "cell_type": "code",
   "execution_count": null,
   "metadata": {
    "collapsed": false
   },
   "outputs": [],
   "source": [
    "dominos = pd.read_csv('trendsmicrosoft.csv')\n",
    "dominos = derivative(dominos)\n",
    "teststock = df[df['ticker'] == 'MSFT']\n",
    "dominostock = middle_of_month(teststock)\n",
    "dominos = dominos.iloc[1:]\n",
    "microsoft = pd.merge(dominostock, dominos,\n",
    "                    left_index = True,\n",
    "                    right_index = True,\n",
    "                    how='inner')\n",
    "microsoft.head()"
   ]
  },
  {
   "cell_type": "code",
   "execution_count": null,
   "metadata": {
    "collapsed": false
   },
   "outputs": [],
   "source": [
    "racism = pd.read_csv('apple trends.csv')\n",
    "racism = derivative(racism)\n",
    "teststock = df[df['ticker'] == 'AAPL']\n",
    "raciststock = middle_of_month(teststock)\n",
    "racism = racism.iloc[1:]\n",
    "apple = pd.merge(raciststock, racism,\n",
    "                    left_index = True,\n",
    "                    right_index = True,\n",
    "                    how='inner')\n",
    "apple.head()"
   ]
  },
  {
   "cell_type": "code",
   "execution_count": null,
   "metadata": {
    "collapsed": false
   },
   "outputs": [],
   "source": [
    "texas = pd.read_csv('trendsamazon.csv')\n",
    "texas = derivative(texas)\n",
    "teststock = df[df['ticker'] == 'AMZN']\n",
    "texasstock = middle_of_month(teststock)\n",
    "texas = texas.iloc[1:]\n",
    "amazon = pd.merge(texasstock, texas,\n",
    "                    left_index = True,\n",
    "                    right_index = True,\n",
    "                    how='inner')\n",
    "amazon.head()"
   ]
  },
  {
   "cell_type": "code",
   "execution_count": null,
   "metadata": {
    "collapsed": false
   },
   "outputs": [],
   "source": [
    "jack = pd.read_csv('facebooktrends.csv')\n",
    "jack = derivative(jack)\n",
    "teststock = df[df['ticker'] == 'FB']\n",
    "jackstock = middle_of_month(teststock)\n",
    "jack = jack.iloc[1:]\n",
    "facebook = pd.merge(jackstock, jack,\n",
    "                    left_index = True,\n",
    "                    right_index = True,\n",
    "                    how='inner')\n",
    "facebook.head()"
   ]
  },
  {
   "cell_type": "code",
   "execution_count": null,
   "metadata": {
    "collapsed": false
   },
   "outputs": [],
   "source": [
    "daveandbusters = pd.read_csv('daveandbusters_trends.csv')\n",
    "daveandbusters = derivative(daveandbusters)\n",
    "teststock = df[df['ticker'] == 'PLAY']\n",
    "davestock = middle_of_month(teststock)\n",
    "dave = daveandbusters.iloc[1:]\n",
    "dave = pd.merge(davestock, dave,\n",
    "                    left_index = True,\n",
    "                    right_index = True,\n",
    "                    how='inner')\n",
    "dave.head()"
   ]
  },
  {
   "cell_type": "code",
   "execution_count": null,
   "metadata": {
    "collapsed": false
   },
   "outputs": [],
   "source": [
    "gobble = pd.read_csv('cheesecakefactory_trends.csv')\n",
    "gobble = derivative(gobble)\n",
    "teststock = df[df['ticker'] == 'CAKE']\n",
    "gobblestock = middle_of_month(teststock)\n",
    "gobble = gobble.iloc[1:]\n",
    "gobble = pd.merge(gobblestock, gobble,\n",
    "                    left_index = True,\n",
    "                    right_index = True,\n",
    "                    how='inner')\n",
    "gobble.head()"
   ]
  },
  {
   "cell_type": "code",
   "execution_count": null,
   "metadata": {
    "collapsed": false
   },
   "outputs": [],
   "source": [
    "buffalo8 = pd.read_csv('buffalowildwings_trends.csv')\n",
    "buffalo8 = derivative(buffalo8)\n",
    "teststock = df[df['ticker'] == 'BWLD']\n",
    "buffalo8stock = middle_of_month(teststock)\n",
    "buffalo8 = buffalo8.iloc[1:]\n",
    "buffalo8 = pd.merge(buffalo8stock, buffalo8,\n",
    "                    left_index = True,\n",
    "                    right_index = True,\n",
    "                    how='inner')\n",
    "buffalo8.head()"
   ]
  },
  {
   "cell_type": "code",
   "execution_count": null,
   "metadata": {
    "collapsed": false
   },
   "outputs": [],
   "source": [
    "#Bloomin' Brands\n",
    "bonefish = pd.read_csv('bonefish_trends.csv')\n",
    "bonefish = derivative(bonefish)\n",
    "carrabba = pd.read_csv('carrabba_trends.csv')\n",
    "carrabba = derivative(carrabba)\n",
    "flemings = pd.read_csv('flemings_trends.csv')\n",
    "flemings = derivative(flemings)\n",
    "outback = pd.read_csv('outbacksteakhouse_trends.csv')\n",
    "outback = derivative(outback)"
   ]
  },
  {
   "cell_type": "code",
   "execution_count": null,
   "metadata": {
    "collapsed": false
   },
   "outputs": [],
   "source": [
    "walmart = pd.read_csv('walmart_trends.csv')\n",
    "walmart = derivative(walmart)\n",
    "teststock = df[df['ticker'] == 'WMT']\n",
    "walmartstock = middle_of_month(teststock)\n",
    "walmart = walmart.iloc[1:]\n",
    "walmart = pd.merge(walmartstock, walmart,\n",
    "                    left_index = True,\n",
    "                    right_index = True,\n",
    "                    how='inner')\n",
    "walmart.head()"
   ]
  },
  {
   "cell_type": "code",
   "execution_count": null,
   "metadata": {
    "collapsed": false
   },
   "outputs": [],
   "source": [
    "costco = pd.read_csv('costco_trends.csv')\n",
    "costco = derivative(costco)\n",
    "teststock = df[df['ticker'] == 'COST']\n",
    "costcostock = middle_of_month(teststock)\n",
    "costco = costco.iloc[1:]\n",
    "costco = pd.merge(costcostock, costco,\n",
    "                    left_index = True,\n",
    "                    right_index = True,\n",
    "                    how='inner')\n",
    "costco.head()"
   ]
  },
  {
   "cell_type": "code",
   "execution_count": null,
   "metadata": {
    "collapsed": false
   },
   "outputs": [],
   "source": [
    "target = pd.read_csv('target_trends.csv')\n",
    "target = derivative(target)\n",
    "teststock = df[df['ticker'] == 'TGT']\n",
    "targetstock = middle_of_month(teststock)\n",
    "target = target.iloc[1:]\n",
    "target = pd.merge(targetstock, target,\n",
    "                    left_index = True,\n",
    "                    right_index = True,\n",
    "                    how='inner')\n",
    "target.head()"
   ]
  },
  {
   "cell_type": "code",
   "execution_count": null,
   "metadata": {
    "collapsed": false
   },
   "outputs": [],
   "source": [
    "dollargeneral = pd.read_csv('dollargeneral_trends.csv')\n",
    "dollargeneral = derivative(dollargeneral)\n",
    "teststock = df[df['ticker'] == 'DG']\n",
    "dollargeneralstock = middle_of_month(teststock)\n",
    "dollargeneral = dollargeneral[1:]\n",
    "dollargeneral = pd.merge(dollargeneralstock, dollargeneral,\n",
    "                    left_index = True,\n",
    "                    right_index = True,\n",
    "                    how='inner')\n",
    "dollargeneral.head()"
   ]
  },
  {
   "cell_type": "code",
   "execution_count": null,
   "metadata": {
    "collapsed": false
   },
   "outputs": [],
   "source": [
    "dollartree = pd.read_csv('dollartree_trends.csv')\n",
    "dollartree = derivative(dollartree)\n",
    "teststock = df[df['ticker'] == 'DLTR']\n",
    "dollartreestock = middle_of_month(teststock)\n",
    "dollartree = dollartree.iloc[1:]\n",
    "dollartree = pd.merge(dollartreestock, dollartree,\n",
    "                    left_index = True,\n",
    "                    right_index = True,\n",
    "                    how='inner')\n",
    "dollartree.head()"
   ]
  },
  {
   "cell_type": "code",
   "execution_count": null,
   "metadata": {
    "collapsed": false
   },
   "outputs": [],
   "source": [
    "burlington = pd.read_csv('burlington_trends.csv')\n",
    "burlington = derivative(burlington)\n",
    "teststock = df[df['ticker'] == 'BURL']\n",
    "burlingtonstock = middle_of_month(teststock)\n",
    "burlington = burlington.iloc[1:]\n",
    "burlington = pd.merge(burlingtonstock, burlington,\n",
    "                    left_index = True,\n",
    "                    right_index = True,\n",
    "                    how='inner')\n",
    "burlington.head()"
   ]
  },
  {
   "cell_type": "code",
   "execution_count": null,
   "metadata": {
    "collapsed": false
   },
   "outputs": [],
   "source": [
    "restaurantstock = pd.concat([chipotlestock, mcdonaldstock,wendystock,dardens,dominos,burlington,racism,texas,jack,dave,gobble,buffalo8])"
   ]
  },
  {
   "cell_type": "code",
   "execution_count": null,
   "metadata": {
    "collapsed": false
   },
   "outputs": [],
   "source": [
    "restaurantstock.shape"
   ]
  },
  {
   "cell_type": "code",
   "execution_count": null,
   "metadata": {
    "collapsed": false
   },
   "outputs": [],
   "source": [
    "restaurantstock['date'] = pd.to_datetime(restaurantstock['date'])"
   ]
  },
  {
   "cell_type": "code",
   "execution_count": null,
   "metadata": {
    "collapsed": false
   },
   "outputs": [],
   "source": [
    "days = [1]\n",
    "df = restaurantstock.loc[restaurantstock['day'].isin(days)]"
   ]
  },
  {
   "cell_type": "code",
   "execution_count": null,
   "metadata": {
    "collapsed": false
   },
   "outputs": [],
   "source": [
    "df.shape"
   ]
  },
  {
   "cell_type": "code",
   "execution_count": null,
   "metadata": {
    "collapsed": false
   },
   "outputs": [],
   "source": [
    "chipotle.index = [datetime.strptime(date, '%Y-%m').date() for date in chipotle.index]"
   ]
  },
  {
   "cell_type": "markdown",
   "metadata": {
    "collapsed": false
   },
   "source": [
    "# Load fundamental data"
   ]
  },
  {
   "cell_type": "code",
   "execution_count": null,
   "metadata": {
    "collapsed": false
   },
   "outputs": [],
   "source": [
    "chipotle = pd.merge(chipotlestock, chipotle,\n",
    "                    left_index = True,\n",
    "                    right_index = True,\n",
    "                    how='inner')"
   ]
  },
  {
   "cell_type": "code",
   "execution_count": null,
   "metadata": {
    "collapsed": false
   },
   "outputs": [],
   "source": [
    "wendys = pd.merge(wendystock, wendys,\n",
    "                    left_index = True,\n",
    "                    right_index = True,\n",
    "                    how='inner')"
   ]
  },
  {
   "cell_type": "code",
   "execution_count": null,
   "metadata": {
    "collapsed": true
   },
   "outputs": [],
   "source": [
    "mcdonalds = pd.merge(mcdonaldstock, mcdonalds,\n",
    "                    left_index = True,\n",
    "                    right_index = True,\n",
    "                    how='inner')"
   ]
  },
  {
   "cell_type": "code",
   "execution_count": null,
   "metadata": {
    "collapsed": false
   },
   "outputs": [],
   "source": [
    "restaurants = pd.concat([chipotle, mcdonalds,wendys,dardens,dominos,burlington,racism,texas,jack,dave,gobble,buffalo8])"
   ]
  },
  {
   "cell_type": "code",
   "execution_count": null,
   "metadata": {
    "collapsed": false
   },
   "outputs": [],
   "source": [
    "restaurants.shape"
   ]
  },
  {
   "cell_type": "code",
   "execution_count": null,
   "metadata": {
    "collapsed": false
   },
   "outputs": [],
   "source": [
    "restaurants.head()"
   ]
  },
  {
   "cell_type": "code",
   "execution_count": null,
   "metadata": {
    "collapsed": false
   },
   "outputs": [],
   "source": [
    "restaurants.dtypes"
   ]
  },
  {
   "cell_type": "code",
   "execution_count": null,
   "metadata": {
    "collapsed": false
   },
   "outputs": [],
   "source": [
    "restaurants.isnull().sum()"
   ]
  },
  {
   "cell_type": "code",
   "execution_count": null,
   "metadata": {
    "collapsed": false
   },
   "outputs": [],
   "source": [
    "restaurants = restaurants.drop('day', axis = 1)"
   ]
  },
  {
   "cell_type": "code",
   "execution_count": null,
   "metadata": {
    "collapsed": false
   },
   "outputs": [],
   "source": [
    "X = restaurants.drop(['half month gain','ticker','middle price','date', 'Category: All categories'], 1)\n",
    "y = restaurants['half month gain']\n",
    "reg_scores = cross_val_score(LinearRegression(), X, y, cv=4)\n",
    "print reg_scores, np.mean(reg_scores)"
   ]
  },
  {
   "cell_type": "code",
   "execution_count": null,
   "metadata": {
    "collapsed": false
   },
   "outputs": [],
   "source": [
    "rf = RandomForestRegressor()\n",
    "rf.fit(X, y)\n",
    "names = X.dtypes.index\n",
    "print \"Features sorted by their score:\"\n",
    "print sorted(zip(map(lambda x: round(x, 4), rf.feature_importances_), names), \n",
    "             reverse=True)"
   ]
  },
  {
   "cell_type": "code",
   "execution_count": null,
   "metadata": {
    "collapsed": false
   },
   "outputs": [],
   "source": []
  },
  {
   "cell_type": "code",
   "execution_count": null,
   "metadata": {
    "collapsed": false
   },
   "outputs": [],
   "source": [
    "# Note the difference in argument order\n",
    "# optionally, you can chain \"fit()\" to the model object\n",
    "model = sm.OLS(y, X)\n",
    "model = model.fit()\n",
    "predictions = model.predict(X)\n",
    "\n",
    "# Plot the model\n",
    "plt.figure(figsize=(8,6))\n",
    "plt.scatter(predictions, y, s=30, c='r', marker='+', zorder=10)\n",
    "plt.xlabel(\"Predicted Values - $\\hat{y}$\")\n",
    "plt.ylabel(\"Actual Values - $y$\")\n",
    "plt.show()\n",
    "\n",
    "print \"MSE:\", mean_squared_error(y, predictions)"
   ]
  },
  {
   "cell_type": "code",
   "execution_count": null,
   "metadata": {
    "collapsed": false
   },
   "outputs": [],
   "source": [
    "model.summary()"
   ]
  },
  {
   "cell_type": "code",
   "execution_count": null,
   "metadata": {
    "collapsed": true
   },
   "outputs": [],
   "source": []
  }
 ],
 "metadata": {
  "kernelspec": {
   "display_name": "Python 2",
   "language": "python",
   "name": "python2"
  },
  "language_info": {
   "codemirror_mode": {
    "name": "ipython",
    "version": 2
   },
   "file_extension": ".py",
   "mimetype": "text/x-python",
   "name": "python",
   "nbconvert_exporter": "python",
   "pygments_lexer": "ipython2",
   "version": "2.7.13"
  }
 },
 "nbformat": 4,
 "nbformat_minor": 2
}
